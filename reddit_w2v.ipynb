{
 "cells": [
  {
   "cell_type": "code",
   "execution_count": 1,
   "id": "greatest-imagination",
   "metadata": {},
   "outputs": [],
   "source": [
    "#Special module written for this class\n",
    "#This provides access to data and to helper functions from previous weeks\n",
    "import lucem_illud #just in case, regularly update your lucem_illud with the following code: pip install git+git://github.com/UChicago-Computational-Content-Analysis/lucem_illud.git\n",
    "import gensim#For word2vec, etc\n",
    "\n",
    "import requests #for http requests\n",
    "import pandas as pd #gives us DataFrames\n",
    "import matplotlib.pyplot as plt #For graphics\n",
    "import wordcloud #Makes word clouds\n",
    "import numpy as np #For divergences/distances\n",
    "import scipy #For divergences/distances\n",
    "import seaborn as sns #makes our plots look nicer\n",
    "import sklearn.manifold #For a manifold plot\n",
    "import json #For API responses\n",
    "import urllib.parse #For joining urls\n",
    "import seaborn as sns#Makes the graphics look nicer\n",
    "import sklearn.metrics.pairwise #For cosine similarity\n",
    "import sklearn.manifold #For T-SNE\n",
    "import sklearn.decomposition #For PCA\n",
    "import datetime as dt\n",
    "import random\n",
    "\n",
    "# comp-linguistics\n",
    "import spacy\n",
    "\n",
    "#Displays the graphs\n",
    "import graphviz #You also need to install the command line graphviz\n",
    "\n",
    "#These are from the standard library\n",
    "import os.path\n",
    "import zipfile\n",
    "import subprocess\n",
    "import io\n",
    "import tempfile\n",
    "\n",
    "#This 'magic' command makes the plots work better\n",
    "#in the notebook, don't use it outside of a notebook\n",
    "%matplotlib inline\n",
    "import warnings\n",
    "warnings.filterwarnings(\"ignore\")"
   ]
  },
  {
   "cell_type": "code",
   "execution_count": 2,
   "id": "timely-potato",
   "metadata": {},
   "outputs": [],
   "source": [
    "df = pd.read_csv('full.csv')"
   ]
  },
  {
   "cell_type": "code",
   "execution_count": 3,
   "id": "athletic-edward",
   "metadata": {},
   "outputs": [
    {
     "data": {
      "text/html": [
       "<div>\n",
       "<style scoped>\n",
       "    .dataframe tbody tr th:only-of-type {\n",
       "        vertical-align: middle;\n",
       "    }\n",
       "\n",
       "    .dataframe tbody tr th {\n",
       "        vertical-align: top;\n",
       "    }\n",
       "\n",
       "    .dataframe thead th {\n",
       "        text-align: right;\n",
       "    }\n",
       "</style>\n",
       "<table border=\"1\" class=\"dataframe\">\n",
       "  <thead>\n",
       "    <tr style=\"text-align: right;\">\n",
       "      <th></th>\n",
       "      <th>title</th>\n",
       "      <th>text</th>\n",
       "      <th>time</th>\n",
       "      <th>ym</th>\n",
       "      <th>score</th>\n",
       "      <th>num_comments</th>\n",
       "      <th>gme</th>\n",
       "    </tr>\n",
       "  </thead>\n",
       "  <tbody>\n",
       "    <tr>\n",
       "      <th>0</th>\n",
       "      <td>WSBVoteBot Log for Oct 01 2020</td>\n",
       "      <td>Every time a new submission is posted to walls...</td>\n",
       "      <td>2020-10-01</td>\n",
       "      <td>202010</td>\n",
       "      <td>5</td>\n",
       "      <td>18</td>\n",
       "      <td>0</td>\n",
       "    </tr>\n",
       "    <tr>\n",
       "      <th>1</th>\n",
       "      <td>call expiring 10/2</td>\n",
       "      <td>[removed]</td>\n",
       "      <td>2020-10-01</td>\n",
       "      <td>202010</td>\n",
       "      <td>1</td>\n",
       "      <td>0</td>\n",
       "      <td>0</td>\n",
       "    </tr>\n",
       "    <tr>\n",
       "      <th>2</th>\n",
       "      <td>Warren Buffett UNCHARMED B.H. DD inside</td>\n",
       "      <td>[removed]</td>\n",
       "      <td>2020-10-01</td>\n",
       "      <td>202010</td>\n",
       "      <td>0</td>\n",
       "      <td>4</td>\n",
       "      <td>0</td>\n",
       "    </tr>\n",
       "    <tr>\n",
       "      <th>3</th>\n",
       "      <td>Thrown out of r/Stocks for saying I prefer FAA...</td>\n",
       "      <td>[deleted]</td>\n",
       "      <td>2020-10-01</td>\n",
       "      <td>202010</td>\n",
       "      <td>1</td>\n",
       "      <td>0</td>\n",
       "      <td>0</td>\n",
       "    </tr>\n",
       "    <tr>\n",
       "      <th>4</th>\n",
       "      <td>What would you retards do?</td>\n",
       "      <td>NaN</td>\n",
       "      <td>2020-10-01</td>\n",
       "      <td>202010</td>\n",
       "      <td>1</td>\n",
       "      <td>0</td>\n",
       "      <td>0</td>\n",
       "    </tr>\n",
       "  </tbody>\n",
       "</table>\n",
       "</div>"
      ],
      "text/plain": [
       "                                               title  \\\n",
       "0                     WSBVoteBot Log for Oct 01 2020   \n",
       "1                                 call expiring 10/2   \n",
       "2            Warren Buffett UNCHARMED B.H. DD inside   \n",
       "3  Thrown out of r/Stocks for saying I prefer FAA...   \n",
       "4                         What would you retards do?   \n",
       "\n",
       "                                                text        time      ym  \\\n",
       "0  Every time a new submission is posted to walls...  2020-10-01  202010   \n",
       "1                                          [removed]  2020-10-01  202010   \n",
       "2                                          [removed]  2020-10-01  202010   \n",
       "3                                          [deleted]  2020-10-01  202010   \n",
       "4                                                NaN  2020-10-01  202010   \n",
       "\n",
       "   score  num_comments  gme  \n",
       "0      5            18    0  \n",
       "1      1             0    0  \n",
       "2      0             4    0  \n",
       "3      1             0    0  \n",
       "4      1             0    0  "
      ]
     },
     "execution_count": 3,
     "metadata": {},
     "output_type": "execute_result"
    }
   ],
   "source": [
    "df = df[['title', 'text', 'time', 'ym', 'score', 'num_comments', 'gme']]\n",
    "df.head()"
   ]
  },
  {
   "cell_type": "code",
   "execution_count": 4,
   "id": "moving-butter",
   "metadata": {},
   "outputs": [
    {
     "data": {
      "text/plain": [
       "0"
      ]
     },
     "execution_count": 4,
     "metadata": {},
     "output_type": "execute_result"
    }
   ],
   "source": [
    "def na_value(x):\n",
    "    if type(x) == float:\n",
    "        return ''\n",
    "    else:\n",
    "        return x\n",
    "\n",
    "df['title'] = df['title'].apply(na_value)\n",
    "\n",
    "np.sum(df['title'].apply(lambda x: type(x) == float))"
   ]
  },
  {
   "cell_type": "code",
   "execution_count": 5,
   "id": "adequate-collectible",
   "metadata": {},
   "outputs": [
    {
     "name": "stdout",
     "output_type": "stream",
     "text": [
      "CPU times: user 5min 24s, sys: 16.2 s, total: 5min 40s\n",
      "Wall time: 7min 4s\n"
     ]
    }
   ],
   "source": [
    "%%time\n",
    "df['tokenized_text'] = df['title'].apply(lambda x: lucem_illud.word_tokenize(x))\n",
    "df['normalized_tokens'] = df['title'].apply(lambda x: lucem_illud.normalizeTokens(x))"
   ]
  },
  {
   "cell_type": "code",
   "execution_count": 6,
   "id": "israeli-studio",
   "metadata": {},
   "outputs": [],
   "source": [
    "df['tokenized_texts'] = df['tokenized_text'].apply(lambda x: [x])\n",
    "df['normalized_texts'] = df['normalized_tokens'].apply(lambda x: [x])"
   ]
  },
  {
   "cell_type": "code",
   "execution_count": 7,
   "id": "unauthorized-swiss",
   "metadata": {},
   "outputs": [],
   "source": [
    "df_1 = df[df['ym']<202101]\n",
    "df_2 = df[df['ym']>=202101]\n",
    "df_2 = df_2[df_2['ym']<202104]\n",
    "df_3 = df[df['ym']>=202104]"
   ]
  },
  {
   "cell_type": "markdown",
   "id": "ahead-parameter",
   "metadata": {},
   "source": [
    "## `Oct 20 - Dec 20`"
   ]
  },
  {
   "cell_type": "code",
   "execution_count": 28,
   "id": "spoken-wells",
   "metadata": {},
   "outputs": [
    {
     "name": "stdout",
     "output_type": "stream",
     "text": [
      "CPU times: user 47.2 s, sys: 1.35 s, total: 48.6 s\n",
      "Wall time: 53.2 s\n"
     ]
    }
   ],
   "source": [
    "%%time\n",
    "W2V1 = gensim.models.word2vec.Word2Vec(df_1['normalized_texts'].sum(), sg=0)"
   ]
  },
  {
   "cell_type": "code",
   "execution_count": 36,
   "id": "plastic-ratio",
   "metadata": {},
   "outputs": [],
   "source": [
    "numWords = 60\n",
    "targetWords = W2V1.wv.index2word[:numWords]"
   ]
  },
  {
   "cell_type": "code",
   "execution_count": 37,
   "id": "sized-receiver",
   "metadata": {},
   "outputs": [
    {
     "data": {
      "text/plain": [
       "array([[ 0.34482983, -0.18205683, -0.47803268, ..., -0.73613745,\n",
       "         0.33528835, -0.7103546 ],\n",
       "       [ 0.09314   ,  0.02380645, -0.2525767 , ...,  0.41955715,\n",
       "         0.07868649, -0.80661625],\n",
       "       [ 0.07483178, -0.26721942, -0.5164824 , ..., -0.25187647,\n",
       "         0.26658332, -0.727526  ],\n",
       "       ...,\n",
       "       [-0.57695234, -0.14727208, -0.35301712, ...,  0.01175777,\n",
       "         0.7948459 , -0.38040194],\n",
       "       [ 0.14212555,  0.10836093, -0.54186136, ...,  0.08624709,\n",
       "        -0.05797961, -0.60904914],\n",
       "       [ 0.29750282,  0.53486717, -0.6537826 , ...,  1.2914455 ,\n",
       "         0.12884009, -1.4892055 ]], dtype=float32)"
      ]
     },
     "execution_count": 37,
     "metadata": {},
     "output_type": "execute_result"
    }
   ],
   "source": [
    "wordsSubMatrix = []\n",
    "for word in targetWords:\n",
    "    wordsSubMatrix.append(W2V1[word])\n",
    "wordsSubMatrix = np.array(wordsSubMatrix)\n",
    "wordsSubMatrix"
   ]
  },
  {
   "cell_type": "code",
   "execution_count": 38,
   "id": "announced-trace",
   "metadata": {},
   "outputs": [],
   "source": [
    "pcaWords = sklearn.decomposition.PCA(n_components = 60).fit(wordsSubMatrix)\n",
    "reducedPCA_data = pcaWords.transform(wordsSubMatrix)\n",
    "#T-SNE is theoretically better, but you should experiment\n",
    "tsneWords = sklearn.manifold.TSNE(n_components = 2).fit_transform(reducedPCA_data)"
   ]
  },
  {
   "cell_type": "code",
   "execution_count": 39,
   "id": "mysterious-identifier",
   "metadata": {},
   "outputs": [
    {
     "data": {
      "image/png": "[encoded data removed]",
      "text/plain": [
       "<Figure size 720x432 with 1 Axes>"
      ]
     },
     "metadata": {},
     "output_type": "display_data"
    }
   ],
   "source": [
    "fig = plt.figure(figsize = (10,6))\n",
    "ax = fig.add_subplot(111)\n",
    "ax.set_frame_on(False)\n",
    "plt.scatter(tsneWords[:, 0], tsneWords[:, 1], alpha = 0)#Making the points invisible \n",
    "for i, word in enumerate(targetWords):\n",
    "    ax.annotate(word, (tsneWords[:, 0][i],tsneWords[:, 1][i]), size =  20 * (numWords - i) / numWords)\n",
    "plt.title('Vector Visualization Oct20-Dec20', size = 18, color = \"darkred\")\n",
    "plt.xticks(())\n",
    "plt.yticks(())\n",
    "plt.savefig('w2v_tsne_1.jpg')\n",
    "plt.show()"
   ]
  },
  {
   "cell_type": "code",
   "execution_count": 41,
   "id": "compressed-hundred",
   "metadata": {},
   "outputs": [
    {
     "data": {
      "text/plain": [
       "[('engulf', 0.9865657091140747),\n",
       " ('f**k', 0.97525954246521),\n",
       " ('brink', 0.9737695455551147),\n",
       " ('flag', 0.9730713367462158),\n",
       " ('candy', 0.9728835821151733),\n",
       " ('🤚', 0.9725391864776611),\n",
       " ('stng', 0.9718373417854309),\n",
       " ('brief', 0.9713293313980103),\n",
       " ('🖕', 0.9709295034408569),\n",
       " ('yachty', 0.9707536697387695)]"
      ]
     },
     "execution_count": 41,
     "metadata": {},
     "output_type": "execute_result"
    }
   ],
   "source": [
    "W2V1.most_similar('bullish')"
   ]
  },
  {
   "cell_type": "code",
   "execution_count": 42,
   "id": "linear-pillow",
   "metadata": {},
   "outputs": [
    {
     "data": {
      "text/plain": [
       "[('divergence', 0.9935551881790161),\n",
       " ('f**k', 0.9916346669197083),\n",
       " ('pe', 0.9904947280883789),\n",
       " ('hindenburg', 0.9891767501831055),\n",
       " ('california', 0.9882718324661255),\n",
       " ('solarwinds', 0.9871412515640259),\n",
       " ('scenario', 0.9871268272399902),\n",
       " ('threshold', 0.9863422513008118),\n",
       " ('fight', 0.9853976964950562),\n",
       " ('pr', 0.9852300882339478)]"
      ]
     },
     "execution_count": 42,
     "metadata": {},
     "output_type": "execute_result"
    }
   ],
   "source": [
    "W2V1.most_similar('bearish')"
   ]
  },
  {
   "cell_type": "code",
   "execution_count": 43,
   "id": "fuzzy-shelf",
   "metadata": {},
   "outputs": [
    {
     "data": {
      "text/plain": [
       "[('sell', 0.9014097452163696),\n",
       " ('cover', 0.8572357296943665),\n",
       " ('expire', 0.8525656461715698),\n",
       " ('panic', 0.8469924926757812),\n",
       " ('otm', 0.8406836986541748),\n",
       " ('wait', 0.8401165008544922),\n",
       " ('yesterday', 0.8334604501724243),\n",
       " ('hold', 0.8270182609558105),\n",
       " ('itm', 0.8244446516036987),\n",
       " ('strike', 0.8196039795875549)]"
      ]
     },
     "execution_count": 43,
     "metadata": {},
     "output_type": "execute_result"
    }
   ],
   "source": [
    "W2V1.most_similar('buy')"
   ]
  },
  {
   "cell_type": "code",
   "execution_count": 44,
   "id": "natural-software",
   "metadata": {},
   "outputs": [
    {
     "data": {
      "text/plain": [
       "[('democratic', 0.9950071573257446),\n",
       " ('automaker', 0.9945327639579773),\n",
       " ('efficacy', 0.9940478205680847),\n",
       " ('corona', 0.9935101270675659),\n",
       " ('aid', 0.9932281374931335),\n",
       " ('stanley', 0.9931114912033081),\n",
       " ('colorize', 0.9930216073989868),\n",
       " ('valuable', 0.9924397468566895),\n",
       " ('depth', 0.9921966791152954),\n",
       " ('jp', 0.9921152591705322)]"
      ]
     },
     "execution_count": 44,
     "metadata": {},
     "output_type": "execute_result"
    }
   ],
   "source": [
    "W2V1.most_similar('bubble')"
   ]
  },
  {
   "cell_type": "code",
   "execution_count": 45,
   "id": "distant-township",
   "metadata": {},
   "outputs": [
    {
     "data": {
      "text/plain": [
       "[('repeat', 0.9968977570533752),\n",
       " ('sucker', 0.9965769648551941),\n",
       " ('cliff', 0.996043860912323),\n",
       " ('cross', 0.9958558082580566),\n",
       " ('collapse', 0.9954060316085815),\n",
       " ('obviously', 0.9953281283378601),\n",
       " ('irl', 0.9951745867729187),\n",
       " ('kodak', 0.9951338768005371),\n",
       " ('everyday', 0.9949644804000854),\n",
       " ('boyz', 0.9948982000350952)]"
      ]
     },
     "execution_count": 45,
     "metadata": {},
     "output_type": "execute_result"
    }
   ],
   "source": [
    "W2V1.most_similar('recession')"
   ]
  },
  {
   "cell_type": "code",
   "execution_count": 46,
   "id": "infrared-baptist",
   "metadata": {},
   "outputs": [
    {
     "data": {
      "text/plain": [
       "[('title', 0.9967268705368042),\n",
       " ('eli5', 0.9961485266685486),\n",
       " ('schwab', 0.9954352974891663),\n",
       " ('coaster', 0.9954107403755188),\n",
       " ('scheme', 0.9953576922416687),\n",
       " ('pure', 0.9952682256698608),\n",
       " ('percentage', 0.9952465295791626),\n",
       " ('sum', 0.9952460527420044),\n",
       " ('expert', 0.9951229691505432),\n",
       " ('hook', 0.9950721263885498)]"
      ]
     },
     "execution_count": 46,
     "metadata": {},
     "output_type": "execute_result"
    }
   ],
   "source": [
    "W2V1.most_similar('wallstreet')"
   ]
  },
  {
   "cell_type": "code",
   "execution_count": 49,
   "id": "focal-saskatchewan",
   "metadata": {},
   "outputs": [
    {
     "data": {
      "text/plain": [
       "[('strategy', 0.9781131744384766),\n",
       " ('investment', 0.9673717021942139),\n",
       " ('beginner', 0.9649785161018372),\n",
       " ('webull', 0.9642359018325806),\n",
       " ('pickbot', 0.9637872576713562),\n",
       " ('hedge', 0.9585094451904297),\n",
       " ('tip', 0.9572739005088806),\n",
       " ('broke', 0.9540212154388428),\n",
       " ('somewhat', 0.9533607959747314),\n",
       " ('investor', 0.9532759189605713)]"
      ]
     },
     "execution_count": 49,
     "metadata": {},
     "output_type": "execute_result"
    }
   ],
   "source": [
    "W2V1.most_similar('fund')"
   ]
  },
  {
   "cell_type": "code",
   "execution_count": 50,
   "id": "acting-publisher",
   "metadata": {},
   "outputs": [
    {
     "data": {
      "text/plain": [
       "[('platform', 0.9292482137680054),\n",
       " ('use', 0.8991773724555969),\n",
       " ('trade', 0.8969257473945618),\n",
       " ('invest', 0.8955121040344238),\n",
       " ('investment', 0.8934321403503418),\n",
       " ('app', 0.8925466537475586),\n",
       " ('fund', 0.8891185522079468),\n",
       " ('strategy', 0.8864892721176147),\n",
       " ('trader', 0.8860867619514465),\n",
       " ('rh', 0.880010724067688)]"
      ]
     },
     "execution_count": 50,
     "metadata": {},
     "output_type": "execute_result"
    }
   ],
   "source": [
    "W2V1.most_similar('robinhood')"
   ]
  },
  {
   "cell_type": "code",
   "execution_count": 51,
   "id": "academic-sheffield",
   "metadata": {},
   "outputs": [
    {
     "data": {
      "text/plain": [
       "[('papa', 0.9910677671432495),\n",
       " ('daddy', 0.9471027851104736),\n",
       " ('elon', 0.9430415630340576),\n",
       " ('❤', 0.8712739944458008),\n",
       " ('cage', 0.870453417301178),\n",
       " ('♥', 0.8698300123214722),\n",
       " ('lord', 0.8682760000228882),\n",
       " ('babyyyy', 0.8564732074737549),\n",
       " ('nicholas', 0.8519790172576904),\n",
       " ('↘', 0.8388509750366211)]"
      ]
     },
     "execution_count": 51,
     "metadata": {},
     "output_type": "execute_result"
    }
   ],
   "source": [
    "W2V1.most_similar('musk')"
   ]
  },
  {
   "cell_type": "code",
   "execution_count": 52,
   "id": "incredible-complex",
   "metadata": {},
   "outputs": [
    {
     "data": {
      "text/plain": [
       "[('|', 0.9492460489273071),\n",
       " ('cap', 0.924389660358429),\n",
       " ('pre', 0.8822071552276611),\n",
       " ('bil', 0.8770509958267212),\n",
       " ('airbnb', 0.8769171237945557),\n",
       " ('election', 0.8742777109146118),\n",
       " ('growth', 0.8609668612480164),\n",
       " ('debut', 0.8499647974967957),\n",
       " ('wee', 0.8488327860832214),\n",
       " ('manipulation', 0.8486683368682861)]"
      ]
     },
     "execution_count": 52,
     "metadata": {},
     "output_type": "execute_result"
    }
   ],
   "source": [
    "W2V1.most_similar('news')"
   ]
  },
  {
   "cell_type": "code",
   "execution_count": 53,
   "id": "fundamental-exhibit",
   "metadata": {},
   "outputs": [
    {
     "data": {
      "text/plain": [
       "[('technical', 0.9785552024841309),\n",
       " ('announce', 0.9520478248596191),\n",
       " ('daily', 0.9308899641036987),\n",
       " ('wsbvotebot', 0.9240050911903381),\n",
       " ('electric', 0.9229559898376465),\n",
       " ('discussion', 0.9221101403236389),\n",
       " ('battery', 0.9207143187522888),\n",
       " ('romeo', 0.9156497716903687),\n",
       " ('thread', 0.9139938354492188),\n",
       " ('release', 0.9124860763549805)]"
      ]
     },
     "execution_count": 53,
     "metadata": {},
     "output_type": "execute_result"
    }
   ],
   "source": [
    "W2V1.most_similar('analysis')"
   ]
  },
  {
   "cell_type": "code",
   "execution_count": 54,
   "id": "stylish-artist",
   "metadata": {},
   "outputs": [
    {
     "data": {
      "text/plain": [
       "[('anticipate', 0.9158695340156555),\n",
       " ('december', 0.9126965403556824),\n",
       " ('dec', 0.9103885293006897),\n",
       " ('monday', 0.9064672589302063),\n",
       " ('sale', 0.9025087356567383),\n",
       " ('xpev', 0.9000647664070129),\n",
       " ('black', 0.8946400880813599),\n",
       " ('thought', 0.8933835029602051),\n",
       " ('prediction', 0.8889641165733337),\n",
       " ('q3', 0.8863323330879211)]"
      ]
     },
     "execution_count": 54,
     "metadata": {},
     "output_type": "execute_result"
    }
   ],
   "source": [
    "W2V1.most_similar('earnings')"
   ]
  },
  {
   "cell_type": "markdown",
   "id": "loving-birmingham",
   "metadata": {},
   "source": [
    "## Vector Dimension plot"
   ]
  },
  {
   "cell_type": "code",
   "execution_count": 55,
   "id": "manual-mauritius",
   "metadata": {},
   "outputs": [],
   "source": [
    "def normalize(vector):\n",
    "    normalized_vector = vector / np.linalg.norm(vector)\n",
    "    return normalized_vector\n",
    "\n",
    "def dimension(model, positives, negatives):\n",
    "    diff = sum([normalize(model[x]) for x in positives]) - sum([normalize(model[y]) for y in negatives])\n",
    "    return diff"
   ]
  },
  {
   "cell_type": "code",
   "execution_count": 59,
   "id": "perceived-festival",
   "metadata": {},
   "outputs": [],
   "source": [
    "Trend = dimension(W2V1, ['increase','soar', 'rise', 'raise', 'rocket', 'good', 'great'], \n",
    "                  ['decline', 'cut', 'drop', 'recession', 'dip', 'bad', 'flop'])\n",
    "Attitude = dimension(W2V1, ['crazy','urgent', 'mad', 'rush'], ['reason', 'rational', 'analysis', 'chill', 'calm'])\n",
    "Trust = dimension(W2V1, ['trust', 'believe', 'true', 'real', 'honest', 'sure'], \n",
    "                  ['fake', 'confuse', 'fraud', 'fool', 'doubt'])"
   ]
  },
  {
   "cell_type": "code",
   "execution_count": 77,
   "id": "accompanied-kansas",
   "metadata": {},
   "outputs": [],
   "source": [
    "Companies = ['apple', 'boeing', 'facebook', 'google', 'gm', 'amazon', 'amc', 'gamestop', 'microsoft', 'tesla']\n",
    "participants = ['investor', 'analyst', 'fund', 'bank', 'government', 'reddit', 'news', 'jpmorgan', 'youtuber']"
   ]
  },
  {
   "cell_type": "code",
   "execution_count": 67,
   "id": "diverse-equivalent",
   "metadata": {},
   "outputs": [],
   "source": [
    "def makeDF(model, word_list):\n",
    "    a = []\n",
    "    b = []\n",
    "    c = []\n",
    "    for word in word_list:\n",
    "        a.append(sklearn.metrics.pairwise.cosine_similarity(W2V1[word].reshape(1,-1), Trend.reshape(1,-1))[0][0])\n",
    "        b.append(sklearn.metrics.pairwise.cosine_similarity(W2V1[word].reshape(1,-1), Attitude.reshape(1,-1))[0][0])\n",
    "        c.append(sklearn.metrics.pairwise.cosine_similarity(W2V1[word].reshape(1,-1), Trust.reshape(1,-1))[0][0])\n",
    "    df = pd.DataFrame({'Trend': a, 'Attitude': b, 'Trust': c}, index = word_list)\n",
    "    return df"
   ]
  },
  {
   "cell_type": "code",
   "execution_count": 78,
   "id": "silver-archive",
   "metadata": {},
   "outputs": [],
   "source": [
    "Comdf = makeDF(W2V1, Companies) \n",
    "Pardf = makeDF(W2V1, participants)"
   ]
  },
  {
   "cell_type": "code",
   "execution_count": 88,
   "id": "stuffed-great",
   "metadata": {},
   "outputs": [],
   "source": [
    "def Coloring(Series):\n",
    "    x = Series.values\n",
    "    y = x-x.min()\n",
    "    z = y/y.max()\n",
    "    c = list(plt.cm.jet(z))\n",
    "    return c\n",
    "\n",
    "def PlotDimension(ax,df, dim):\n",
    "    ax.set_frame_on(False)\n",
    "    ax.set_title(dim, fontsize = 20)\n",
    "    colors = Coloring(df[dim])\n",
    "    for i, word in enumerate(df.index):\n",
    "        ax.annotate(word, (0, df[dim][i]), color = colors[i], alpha = 1, fontsize = 12)\n",
    "    MaxY = df[dim].max()\n",
    "    MinY = df[dim].min()\n",
    "    plt.ylim(MinY,MaxY)\n",
    "    plt.yticks(())\n",
    "    plt.xticks(())"
   ]
  },
  {
   "cell_type": "code",
   "execution_count": 89,
   "id": "prompt-disclaimer",
   "metadata": {},
   "outputs": [
    {
     "data": {
      "image/png": "[encoded data removed]",
      "text/plain": [
       "<Figure size 864x576 with 3 Axes>"
      ]
     },
     "metadata": {},
     "output_type": "display_data"
    }
   ],
   "source": [
    "fig = plt.figure(figsize = (12,8))\n",
    "ax1 = fig.add_subplot(131)\n",
    "PlotDimension(ax1, Pardf, 'Trend')\n",
    "ax2 = fig.add_subplot(132)\n",
    "PlotDimension(ax2, Pardf, 'Attitude')\n",
    "ax3 = fig.add_subplot(133)\n",
    "PlotDimension(ax3, Pardf, 'Trust')\n",
    "plt.savefig('dim_proj_rb_par.jpg')\n",
    "plt.show()"
   ]
  },
  {
   "cell_type": "code",
   "execution_count": 90,
   "id": "entire-thesaurus",
   "metadata": {},
   "outputs": [
    {
     "data": {
      "image/png": "[encoded data removed]",
      "text/plain": [
       "<Figure size 864x576 with 3 Axes>"
      ]
     },
     "metadata": {},
     "output_type": "display_data"
    }
   ],
   "source": [
    "fig = plt.figure(figsize = (12,8))\n",
    "ax1 = fig.add_subplot(131)\n",
    "PlotDimension(ax1, Comdf, 'Trend')\n",
    "ax2 = fig.add_subplot(132)\n",
    "PlotDimension(ax2, Comdf, 'Attitude')\n",
    "ax3 = fig.add_subplot(133)\n",
    "PlotDimension(ax3, Comdf, 'Trust')\n",
    "plt.savefig('dim_proj_rb_com.jpg')\n",
    "plt.show()"
   ]
  },
  {
   "cell_type": "markdown",
   "id": "instructional-biography",
   "metadata": {},
   "source": [
    "## `Jan 21 - March 21`"
   ]
  },
  {
   "cell_type": "code",
   "execution_count": 8,
   "id": "bulgarian-firewall",
   "metadata": {},
   "outputs": [],
   "source": [
    "t = random.sample(list(df_2['normalized_texts']), 50000) #take too long"
   ]
  },
  {
   "cell_type": "code",
   "execution_count": 26,
   "id": "desirable-stereo",
   "metadata": {},
   "outputs": [
    {
     "data": {
      "text/plain": [
       "[['mgm', 'put'],\n",
       " ['gme', 'happen', 'dd', 'inside'],\n",
       " ['$', 'today', 'spy', 'put', 'professional', 'trader']]"
      ]
     },
     "execution_count": 26,
     "metadata": {},
     "output_type": "execute_result"
    }
   ],
   "source": [
    "df_2['normalized_texts'][:3].sum()"
   ]
  },
  {
   "cell_type": "code",
   "execution_count": 25,
   "id": "swedish-bible",
   "metadata": {},
   "outputs": [
    {
     "data": {
      "text/plain": [
       "[['buy', 'share'],\n",
       " ['hofv', 'new', '💎', '💎'],\n",
       " ['determine', 'diamond', 'hand', 'stick', 'plan']]"
      ]
     },
     "execution_count": 25,
     "metadata": {},
     "output_type": "execute_result"
    }
   ],
   "source": [
    "pd.Series(t[:3]).sum()"
   ]
  },
  {
   "cell_type": "code",
   "execution_count": 27,
   "id": "ecological-retention",
   "metadata": {},
   "outputs": [
    {
     "name": "stdout",
     "output_type": "stream",
     "text": [
      "CPU times: user 1min 4s, sys: 3.14 s, total: 1min 7s\n",
      "Wall time: 1min 10s\n"
     ]
    }
   ],
   "source": [
    "%%time\n",
    "W2V2 = gensim.models.word2vec.Word2Vec(pd.Series(t).sum(), sg=0)"
   ]
  },
  {
   "cell_type": "code",
   "execution_count": 32,
   "id": "saving-birmingham",
   "metadata": {},
   "outputs": [],
   "source": [
    "numWords = 60\n",
    "targetWords = W2V2.wv.index2word[:numWords]"
   ]
  },
  {
   "cell_type": "code",
   "execution_count": 33,
   "id": "efficient-poultry",
   "metadata": {},
   "outputs": [
    {
     "data": {
      "text/plain": [
       "array([[-0.711723  ,  0.85373163, -1.4738499 , ...,  1.2481439 ,\n",
       "         0.8109978 ,  0.6664867 ],\n",
       "       [ 0.2840072 ,  0.29606715, -0.39267913, ...,  0.2455432 ,\n",
       "        -0.5141798 , -0.20506184],\n",
       "       [ 0.4026448 , -0.08051553, -0.52366173, ...,  0.4283482 ,\n",
       "        -0.38657644,  0.01059065],\n",
       "       ...,\n",
       "       [-0.0988877 ,  0.12003985, -0.9502004 , ...,  0.27852634,\n",
       "        -0.16203324,  0.3223183 ],\n",
       "       [ 0.4934759 ,  0.06366731, -0.53485584, ..., -0.055785  ,\n",
       "        -0.7565827 , -0.15908782],\n",
       "       [ 0.10108731, -0.08320706, -0.5845307 , ..., -0.0627977 ,\n",
       "        -0.13955143,  0.16361496]], dtype=float32)"
      ]
     },
     "execution_count": 33,
     "metadata": {},
     "output_type": "execute_result"
    }
   ],
   "source": [
    "wordsSubMatrix = []\n",
    "for word in targetWords:\n",
    "    wordsSubMatrix.append(W2V2[word])\n",
    "wordsSubMatrix = np.array(wordsSubMatrix)\n",
    "wordsSubMatrix"
   ]
  },
  {
   "cell_type": "code",
   "execution_count": 34,
   "id": "aboriginal-communication",
   "metadata": {},
   "outputs": [],
   "source": [
    "pcaWords = sklearn.decomposition.PCA(n_components = 60).fit(wordsSubMatrix)\n",
    "reducedPCA_data = pcaWords.transform(wordsSubMatrix)\n",
    "#T-SNE is theoretically better, but you should experiment\n",
    "tsneWords = sklearn.manifold.TSNE(n_components = 2).fit_transform(reducedPCA_data)"
   ]
  },
  {
   "cell_type": "code",
   "execution_count": 35,
   "id": "divine-wrapping",
   "metadata": {},
   "outputs": [
    {
     "data": {
      "image/png": "[encoded data removed]",
      "text/plain": [
       "<Figure size 720x432 with 1 Axes>"
      ]
     },
     "metadata": {},
     "output_type": "display_data"
    }
   ],
   "source": [
    "fig = plt.figure(figsize = (10,6))\n",
    "ax = fig.add_subplot(111)\n",
    "ax.set_frame_on(False)\n",
    "plt.scatter(tsneWords[:, 0], tsneWords[:, 1], alpha = 0)#Making the points invisible \n",
    "for i, word in enumerate(targetWords):\n",
    "    ax.annotate(word, (tsneWords[:, 0][i],tsneWords[:, 1][i]), size =  20 * (numWords - i) / numWords)\n",
    "plt.title('Vector Visualization Jan21-Mar21', size = 18, color = \"darkred\")\n",
    "plt.xticks(())\n",
    "plt.yticks(())\n",
    "plt.savefig('w2v_tsne_2.jpg')\n",
    "plt.show()"
   ]
  },
  {
   "cell_type": "code",
   "execution_count": 37,
   "id": "decimal-maria",
   "metadata": {},
   "outputs": [
    {
     "data": {
      "text/plain": [
       "[('surge', 0.9976330399513245),\n",
       " ('valuation', 0.9975378513336182),\n",
       " ('supply', 0.9971442222595215),\n",
       " ('technical', 0.9970572590827942),\n",
       " ('clov', 0.9966022968292236),\n",
       " ('ipoe', 0.9963918924331665),\n",
       " ('mara', 0.9962774515151978),\n",
       " ('mid', 0.9961977005004883),\n",
       " ('est', 0.9961585998535156),\n",
       " ('january', 0.996157705783844)]"
      ]
     },
     "execution_count": 37,
     "metadata": {},
     "output_type": "execute_result"
    }
   ],
   "source": [
    "W2V2.most_similar('bullish')"
   ]
  },
  {
   "cell_type": "code",
   "execution_count": 38,
   "id": "secret-messenger",
   "metadata": {},
   "outputs": [
    {
     "data": {
      "text/plain": [
       "[('attempt', 0.9970067143440247),\n",
       " ('wealth', 0.9969120621681213),\n",
       " ('careful', 0.9966616630554199),\n",
       " ('operation', 0.996492862701416),\n",
       " ('outcome', 0.9964636564254761),\n",
       " ('obvious', 0.9963680505752563),\n",
       " ('10x', 0.9961665868759155),\n",
       " ('choice', 0.9961159825325012),\n",
       " ('spy', 0.9960183501243591),\n",
       " ('dangerous', 0.9958536624908447)]"
      ]
     },
     "execution_count": 38,
     "metadata": {},
     "output_type": "execute_result"
    }
   ],
   "source": [
    "W2V2.most_similar('bearish')"
   ]
  },
  {
   "cell_type": "code",
   "execution_count": 39,
   "id": "monetary-dancing",
   "metadata": {},
   "outputs": [
    {
     "data": {
      "text/plain": [
       "[('morning', 0.9254904985427856),\n",
       " ('gme', 0.9233473539352417),\n",
       " ('share', 0.9176340103149414),\n",
       " ('amc', 0.9097995758056641),\n",
       " ('monday', 0.8864977359771729),\n",
       " ('drop', 0.8818128108978271),\n",
       " ('worth', 0.8719881772994995),\n",
       " ('yesterday', 0.8715010285377502),\n",
       " ('friday', 0.8708511590957642),\n",
       " ('tomorrow', 0.8699182868003845)]"
      ]
     },
     "execution_count": 39,
     "metadata": {},
     "output_type": "execute_result"
    }
   ],
   "source": [
    "W2V2.most_similar('buy')"
   ]
  },
  {
   "cell_type": "code",
   "execution_count": 40,
   "id": "natural-software",
   "metadata": {},
   "outputs": [
    {
     "data": {
      "text/plain": [
       "[('window', 0.9980223774909973),\n",
       " ('travel', 0.9976552724838257),\n",
       " ('goev', 0.9975714683532715),\n",
       " ('success', 0.9973936080932617),\n",
       " ('celebrate', 0.997353732585907),\n",
       " ('meet', 0.9972599148750305),\n",
       " ('upcoming', 0.9970599412918091),\n",
       " ('profitable', 0.9970591068267822),\n",
       " ('sony', 0.9969617128372192),\n",
       " ('minus', 0.996920108795166)]"
      ]
     },
     "execution_count": 40,
     "metadata": {},
     "output_type": "execute_result"
    }
   ],
   "source": [
    "W2V2.most_similar('bubble')"
   ]
  },
  {
   "cell_type": "code",
   "execution_count": 41,
   "id": "distant-township",
   "metadata": {},
   "outputs": [
    {
     "data": {
      "text/plain": [
       "[('visit', 0.9950394034385681),\n",
       " ('lately', 0.9949366450309753),\n",
       " ('breakdown', 0.9946386218070984),\n",
       " ('treasury', 0.9943933486938477),\n",
       " ('knock', 0.9943900108337402),\n",
       " ('scammer', 0.9942554235458374),\n",
       " ('x', 0.9941986799240112),\n",
       " ('whale', 0.9941521883010864),\n",
       " ('tech', 0.9940506219863892),\n",
       " ('cancer', 0.9939826726913452)]"
      ]
     },
     "execution_count": 41,
     "metadata": {},
     "output_type": "execute_result"
    }
   ],
   "source": [
    "W2V2.most_similar('recession')"
   ]
  },
  {
   "cell_type": "code",
   "execution_count": 42,
   "id": "infrared-baptist",
   "metadata": {},
   "outputs": [
    {
     "data": {
      "text/plain": [
       "[('elite', 0.994001030921936),\n",
       " ('government', 0.9903676509857178),\n",
       " ('slam', 0.9881900548934937),\n",
       " ('write', 0.9879160523414612),\n",
       " ('cry', 0.9870322942733765),\n",
       " ('house', 0.987028956413269),\n",
       " ('billionaires', 0.9865244626998901),\n",
       " ('side', 0.9858372807502747),\n",
       " ('live', 0.9852280616760254),\n",
       " ('declare', 0.9850128889083862)]"
      ]
     },
     "execution_count": 42,
     "metadata": {},
     "output_type": "execute_result"
    }
   ],
   "source": [
    "W2V2.most_similar('wallstreet')"
   ]
  },
  {
   "cell_type": "code",
   "execution_count": 43,
   "id": "focal-saskatchewan",
   "metadata": {},
   "outputs": [
    {
     "data": {
      "text/plain": [
       "[('funder', 0.9413273334503174),\n",
       " ('fck', 0.6605449914932251),\n",
       " ('melvin', 0.6434204578399658),\n",
       " ('try', 0.6433612704277039),\n",
       " ('manager', 0.6277679800987244),\n",
       " ('scream', 0.6264234185218811),\n",
       " ('capital', 0.6210931539535522),\n",
       " ('tp', 0.615193784236908),\n",
       " ('citadel', 0.6063218116760254),\n",
       " ('delicious', 0.5993610620498657)]"
      ]
     },
     "execution_count": 43,
     "metadata": {},
     "output_type": "execute_result"
    }
   ],
   "source": [
    "W2V2.most_similar('fund')"
   ]
  },
  {
   "cell_type": "code",
   "execution_count": 44,
   "id": "acting-publisher",
   "metadata": {},
   "outputs": [
    {
     "data": {
      "text/plain": [
       "[('rh', 0.9690895080566406),\n",
       " ('transfer', 0.9555178880691528),\n",
       " ('account', 0.9548893570899963),\n",
       " ('td', 0.9448310732841492),\n",
       " ('app', 0.9383547306060791),\n",
       " ('ameritrade', 0.9310807585716248),\n",
       " ('remove', 0.9289989471435547),\n",
       " ('platform', 0.9251908659934998),\n",
       " ('webull', 0.9227882623672485),\n",
       " ('use', 0.9219323396682739)]"
      ]
     },
     "execution_count": 44,
     "metadata": {},
     "output_type": "execute_result"
    }
   ],
   "source": [
    "W2V2.most_similar('robinhood')"
   ]
  },
  {
   "cell_type": "code",
   "execution_count": 45,
   "id": "academic-sheffield",
   "metadata": {},
   "outputs": [
    {
     "data": {
      "text/plain": [
       "[('papa', 0.9641889333724976),\n",
       " ('elon', 0.9524518251419067),\n",
       " ('🤗', 0.945810079574585),\n",
       " ('tweet', 0.945236325263977),\n",
       " ('⚡', 0.9127867221832275),\n",
       " ('siri', 0.9097764492034912),\n",
       " ('⭐', 0.9020071029663086),\n",
       " ('clubhouse', 0.8996458053588867),\n",
       " ('👅', 0.8917264938354492),\n",
       " ('💋', 0.8913350105285645)]"
      ]
     },
     "execution_count": 45,
     "metadata": {},
     "output_type": "execute_result"
    }
   ],
   "source": [
    "W2V2.most_similar('musk')"
   ]
  },
  {
   "cell_type": "code",
   "execution_count": 46,
   "id": "incredible-complex",
   "metadata": {},
   "outputs": [
    {
     "data": {
      "text/plain": [
       "[('fake', 0.9821604490280151),\n",
       " ('vs', 0.9802286624908447),\n",
       " ('medium', 0.9763059020042419),\n",
       " ('proof', 0.974579393863678),\n",
       " ('protect', 0.973743200302124),\n",
       " ('trader', 0.9734209179878235),\n",
       " ('dilemma', 0.9712626934051514),\n",
       " ('cnbc', 0.9702374935150146),\n",
       " ('bail', 0.9685668349266052),\n",
       " ('responsibility', 0.9682638049125671)]"
      ]
     },
     "execution_count": 46,
     "metadata": {},
     "output_type": "execute_result"
    }
   ],
   "source": [
    "W2V2.most_similar('news')"
   ]
  },
  {
   "cell_type": "code",
   "execution_count": 47,
   "id": "fundamental-exhibit",
   "metadata": {},
   "outputs": [
    {
     "data": {
      "text/plain": [
       "[('thursday', 0.9951896667480469),\n",
       " ('supply', 0.9947218894958496),\n",
       " ('technical', 0.9945130348205566),\n",
       " ('valuation', 0.9937191009521484),\n",
       " ('march', 0.993452250957489),\n",
       " ('bullish', 0.9934253692626953),\n",
       " ('prediction', 0.9932197332382202),\n",
       " ('clvs', 0.9929001331329346),\n",
       " ('pt', 0.9928061962127686),\n",
       " ('jan', 0.9927361607551575)]"
      ]
     },
     "execution_count": 47,
     "metadata": {},
     "output_type": "execute_result"
    }
   ],
   "source": [
    "W2V2.most_similar('analysis')"
   ]
  },
  {
   "cell_type": "code",
   "execution_count": 48,
   "id": "stylish-artist",
   "metadata": {},
   "outputs": [
    {
     "data": {
      "text/plain": [
       "[('potential', 0.9896845817565918),\n",
       " ('clvs', 0.9870729446411133),\n",
       " ('percent', 0.9859926104545593),\n",
       " ('march', 0.9820641279220581),\n",
       " ('analysis', 0.9819700717926025),\n",
       " ('abml', 0.9814715385437012),\n",
       " ('ampe', 0.9805853366851807),\n",
       " ('thursday', 0.9804071187973022),\n",
       " ('kmph', 0.9803288578987122),\n",
       " ('ag', 0.9801337122917175)]"
      ]
     },
     "execution_count": 48,
     "metadata": {},
     "output_type": "execute_result"
    }
   ],
   "source": [
    "W2V2.most_similar('earnings')"
   ]
  },
  {
   "cell_type": "code",
   "execution_count": 119,
   "id": "rubber-tennessee",
   "metadata": {},
   "outputs": [
    {
     "data": {
      "text/plain": [
       "[('share', 0.9494958519935608),\n",
       " ('amc', 0.9426567554473877),\n",
       " ('morning', 0.9397354125976562),\n",
       " ('friday', 0.9298371076583862),\n",
       " ('drop', 0.9283851385116577),\n",
       " ('buy', 0.9233473539352417),\n",
       " ('monday', 0.9125374555587769),\n",
       " ('tomorrow', 0.9122408628463745),\n",
       " ('worth', 0.9061509966850281),\n",
       " ('sale', 0.9058886766433716)]"
      ]
     },
     "execution_count": 119,
     "metadata": {},
     "output_type": "execute_result"
    }
   ],
   "source": [
    "W2V2.most_similar('gme')"
   ]
  },
  {
   "cell_type": "markdown",
   "id": "loving-birmingham",
   "metadata": {},
   "source": [
    "## Vector Dimension plot"
   ]
  },
  {
   "cell_type": "code",
   "execution_count": 49,
   "id": "manual-mauritius",
   "metadata": {},
   "outputs": [],
   "source": [
    "def normalize(vector):\n",
    "    normalized_vector = vector / np.linalg.norm(vector)\n",
    "    return normalized_vector\n",
    "\n",
    "def dimension(model, positives, negatives):\n",
    "    diff = sum([normalize(model[x]) for x in positives]) - sum([normalize(model[y]) for y in negatives])\n",
    "    return diff"
   ]
  },
  {
   "cell_type": "code",
   "execution_count": 54,
   "id": "perceived-festival",
   "metadata": {},
   "outputs": [],
   "source": [
    "Trend = dimension(W2V2, ['increase','soar', 'rise', 'raise', 'rocket', 'good', 'great'], \n",
    "                  ['decline', 'cut', 'drop', 'recession', 'dip', 'bad'])\n",
    "Attitude = dimension(W2V2, ['crazy','emotion', 'mad', 'rush'], ['reason', 'analysis', 'chill', 'calm'])\n",
    "Trust = dimension(W2V2, ['trust', 'believe', 'true', 'real', 'honest', 'sure'], \n",
    "                  ['fake', 'confuse', 'fraud', 'fool', 'doubt'])"
   ]
  },
  {
   "cell_type": "code",
   "execution_count": 65,
   "id": "accompanied-kansas",
   "metadata": {},
   "outputs": [],
   "source": [
    "Companies = ['apple', 'facebook', 'google', 'gm', 'amazon', 'amc', 'gamestop', 'tesla']\n",
    "participants = ['investor', 'analyst', 'hedgefunds', 'bank', 'government', 'reddit', 'news', 'jpm']"
   ]
  },
  {
   "cell_type": "code",
   "execution_count": 57,
   "id": "diverse-equivalent",
   "metadata": {},
   "outputs": [],
   "source": [
    "def makeDF(model, word_list):\n",
    "    a = []\n",
    "    b = []\n",
    "    c = []\n",
    "    for word in word_list:\n",
    "        a.append(sklearn.metrics.pairwise.cosine_similarity(W2V2[word].reshape(1,-1), Trend.reshape(1,-1))[0][0])\n",
    "        b.append(sklearn.metrics.pairwise.cosine_similarity(W2V2[word].reshape(1,-1), Attitude.reshape(1,-1))[0][0])\n",
    "        c.append(sklearn.metrics.pairwise.cosine_similarity(W2V2[word].reshape(1,-1), Trust.reshape(1,-1))[0][0])\n",
    "    df = pd.DataFrame({'Trend': a, 'Attitude': b, 'Trust': c}, index = word_list)\n",
    "    return df"
   ]
  },
  {
   "cell_type": "code",
   "execution_count": 66,
   "id": "silver-archive",
   "metadata": {},
   "outputs": [],
   "source": [
    "Comdf = makeDF(W2V2, Companies) \n",
    "Pardf = makeDF(W2V2, participants)"
   ]
  },
  {
   "cell_type": "code",
   "execution_count": 139,
   "id": "stuffed-great",
   "metadata": {},
   "outputs": [],
   "source": [
    "def Coloring(Series):\n",
    "    x = Series.values\n",
    "    y = x-x.min()\n",
    "    z = y/y.max()\n",
    "    c = list(plt.cm.jet(z))\n",
    "    return c\n",
    "\n",
    "def PlotDimension(ax,df, dim):\n",
    "    ax.set_frame_on(False)\n",
    "    ax.set_title(dim, fontsize = 20)\n",
    "    colors = Coloring(df[dim])\n",
    "    for i, word in enumerate(df.index):\n",
    "        ax.annotate(word, (0, df[dim][i]), color = colors[i], alpha = 1, fontsize = 16)\n",
    "    MaxY = df[dim].max()\n",
    "    MinY = df[dim].min()\n",
    "    plt.ylim(MinY,MaxY)\n",
    "    plt.yticks(())\n",
    "    plt.xticks(())"
   ]
  },
  {
   "cell_type": "code",
   "execution_count": 71,
   "id": "prompt-disclaimer",
   "metadata": {},
   "outputs": [
    {
     "data": {
      "image/png": "[encoded data removed]",
      "text/plain": [
       "<Figure size 864x576 with 3 Axes>"
      ]
     },
     "metadata": {},
     "output_type": "display_data"
    }
   ],
   "source": [
    "fig = plt.figure(figsize = (12,8))\n",
    "ax1 = fig.add_subplot(131)\n",
    "PlotDimension(ax1, Pardf, 'Trend')\n",
    "ax2 = fig.add_subplot(132)\n",
    "PlotDimension(ax2, Pardf, 'Attitude')\n",
    "ax3 = fig.add_subplot(133)\n",
    "PlotDimension(ax3, Pardf, 'Trust')\n",
    "plt.savefig('dim_proj_rb_par.jpg')\n",
    "plt.show()"
   ]
  },
  {
   "cell_type": "code",
   "execution_count": 72,
   "id": "entire-thesaurus",
   "metadata": {},
   "outputs": [
    {
     "data": {
      "image/png": "[encoded data removed]",
      "text/plain": [
       "<Figure size 864x576 with 3 Axes>"
      ]
     },
     "metadata": {},
     "output_type": "display_data"
    }
   ],
   "source": [
    "fig = plt.figure(figsize = (12,8))\n",
    "ax1 = fig.add_subplot(131)\n",
    "PlotDimension(ax1, Comdf, 'Trend')\n",
    "ax2 = fig.add_subplot(132)\n",
    "PlotDimension(ax2, Comdf, 'Attitude')\n",
    "ax3 = fig.add_subplot(133)\n",
    "PlotDimension(ax3, Comdf, 'Trust')\n",
    "plt.savefig('dim_proj_rb_com.jpg')\n",
    "plt.show()"
   ]
  },
  {
   "cell_type": "code",
   "execution_count": null,
   "id": "upper-mortgage",
   "metadata": {},
   "outputs": [],
   "source": []
  },
  {
   "cell_type": "markdown",
   "id": "instructional-biography",
   "metadata": {},
   "source": [
    "## `March 21 - June 21`"
   ]
  },
  {
   "cell_type": "code",
   "execution_count": 73,
   "id": "ecological-retention",
   "metadata": {},
   "outputs": [
    {
     "name": "stdout",
     "output_type": "stream",
     "text": [
      "CPU times: user 5min 4s, sys: 6.9 s, total: 5min 11s\n",
      "Wall time: 5min 17s\n"
     ]
    }
   ],
   "source": [
    "%%time\n",
    "W2V3 = gensim.models.word2vec.Word2Vec(df_3['normalized_texts'].sum(), sg=0)"
   ]
  },
  {
   "cell_type": "code",
   "execution_count": 92,
   "id": "saving-birmingham",
   "metadata": {},
   "outputs": [],
   "source": [
    "numWords = 60\n",
    "targetWords = W2V3.wv.index2word[:numWords]"
   ]
  },
  {
   "cell_type": "code",
   "execution_count": 93,
   "id": "efficient-poultry",
   "metadata": {},
   "outputs": [
    {
     "data": {
      "text/plain": [
       "array([[-0.18365079,  1.4174721 , -0.6501064 , ..., -0.18826146,\n",
       "        -0.30770522, -0.19289413],\n",
       "       [ 0.79969656, -0.6140003 ,  0.22752398, ...,  1.0798005 ,\n",
       "         0.2858344 , -0.18514377],\n",
       "       [ 0.802049  ,  0.9547494 , -0.40750793, ...,  0.48509243,\n",
       "        -0.50610894,  0.15029491],\n",
       "       ...,\n",
       "       [ 0.44600928,  0.32978347, -1.3777187 , ..., -0.4373185 ,\n",
       "        -0.85279554, -0.46156245],\n",
       "       [-0.34817934,  0.46469462,  0.17782013, ..., -1.0962055 ,\n",
       "         0.14744042, -1.1720732 ],\n",
       "       [-0.5644188 ,  1.1258131 , -0.9681851 , ..., -0.34693307,\n",
       "         0.45312577,  0.51542515]], dtype=float32)"
      ]
     },
     "execution_count": 93,
     "metadata": {},
     "output_type": "execute_result"
    }
   ],
   "source": [
    "wordsSubMatrix = []\n",
    "for word in targetWords:\n",
    "    wordsSubMatrix.append(W2V3[word])\n",
    "wordsSubMatrix = np.array(wordsSubMatrix)\n",
    "wordsSubMatrix"
   ]
  },
  {
   "cell_type": "code",
   "execution_count": 94,
   "id": "aboriginal-communication",
   "metadata": {},
   "outputs": [],
   "source": [
    "pcaWords = sklearn.decomposition.PCA(n_components = 60).fit(wordsSubMatrix)\n",
    "reducedPCA_data = pcaWords.transform(wordsSubMatrix)\n",
    "#T-SNE is theoretically better, but you should experiment\n",
    "tsneWords = sklearn.manifold.TSNE(n_components = 2).fit_transform(reducedPCA_data)"
   ]
  },
  {
   "cell_type": "code",
   "execution_count": 96,
   "id": "divine-wrapping",
   "metadata": {},
   "outputs": [
    {
     "data": {
      "image/png": "[encoded data removed]",
      "text/plain": [
       "<Figure size 720x432 with 1 Axes>"
      ]
     },
     "metadata": {},
     "output_type": "display_data"
    }
   ],
   "source": [
    "fig = plt.figure(figsize = (10,6))\n",
    "ax = fig.add_subplot(111)\n",
    "ax.set_frame_on(False)\n",
    "plt.scatter(tsneWords[:, 0], tsneWords[:, 1], alpha = 0)#Making the points invisible \n",
    "for i, word in enumerate(targetWords):\n",
    "    ax.annotate(word, (tsneWords[:, 0][i],tsneWords[:, 1][i]), size =  20 * (numWords - i) / numWords)\n",
    "plt.title('Vector Visualization Apr21-Jun21', size = 18, color = \"darkred\")\n",
    "plt.xticks(())\n",
    "plt.yticks(())\n",
    "plt.savefig('w2v_tsne_3.jpg')\n",
    "plt.show()"
   ]
  },
  {
   "cell_type": "code",
   "execution_count": 98,
   "id": "decimal-maria",
   "metadata": {},
   "outputs": [
    {
     "data": {
      "text/plain": [
       "[('chart', 0.8519579172134399),\n",
       " ('breakout', 0.8293111324310303),\n",
       " ('triangle', 0.7914748787879944),\n",
       " ('pattern', 0.7806800007820129),\n",
       " ('technicals', 0.7619339823722839),\n",
       " ('extremely', 0.7485848069190979),\n",
       " ('ascend', 0.7344386577606201),\n",
       " ('bearish', 0.7292494773864746),\n",
       " ('oversell', 0.7257105112075806),\n",
       " ('ta', 0.7255851030349731)]"
      ]
     },
     "execution_count": 98,
     "metadata": {},
     "output_type": "execute_result"
    }
   ],
   "source": [
    "W2V3.most_similar('bullish')"
   ]
  },
  {
   "cell_type": "code",
   "execution_count": 99,
   "id": "secret-messenger",
   "metadata": {},
   "outputs": [
    {
     "data": {
      "text/plain": [
       "[('harmonic', 0.9634820818901062),\n",
       " ('gartley', 0.9458425641059875),\n",
       " ('hourly', 0.9378989934921265),\n",
       " ('projection', 0.9350295066833496),\n",
       " ('pennant', 0.928970456123352),\n",
       " ('unbiased', 0.9252471923828125),\n",
       " ('crab', 0.924675464630127),\n",
       " ('gteh', 0.9244396686553955),\n",
       " ('quarterly', 0.9241631031036377),\n",
       " ('cycle', 0.9228614568710327)]"
      ]
     },
     "execution_count": 99,
     "metadata": {},
     "output_type": "execute_result"
    }
   ],
   "source": [
    "W2V3.most_similar('bearish')"
   ]
  },
  {
   "cell_type": "code",
   "execution_count": 100,
   "id": "fuzzy-shelf",
   "metadata": {},
   "outputs": [
    {
     "data": {
      "text/plain": [
       "[('sell', 0.7126967310905457),\n",
       " ('peak', 0.6709917783737183),\n",
       " ('purchase', 0.6697271466255188),\n",
       " ('rn', 0.6542304754257202),\n",
       " ('dip', 0.6339952945709229),\n",
       " ('reach', 0.6253057718276978),\n",
       " ('drop', 0.6252959966659546),\n",
       " ('regret', 0.605746865272522),\n",
       " ('cent', 0.6034072637557983),\n",
       " ('average', 0.6020228266716003)]"
      ]
     },
     "execution_count": 100,
     "metadata": {},
     "output_type": "execute_result"
    }
   ],
   "source": [
    "W2V3.most_similar('buy')"
   ]
  },
  {
   "cell_type": "code",
   "execution_count": 101,
   "id": "natural-software",
   "metadata": {},
   "outputs": [
    {
     "data": {
      "text/plain": [
       "[('scheme', 0.9464600086212158),\n",
       " ('designer', 0.937899112701416),\n",
       " ('korea', 0.9289386868476868),\n",
       " ('mall', 0.9281474947929382),\n",
       " ('inequality', 0.92281174659729),\n",
       " ('workplace', 0.9210155010223389),\n",
       " ('boycott', 0.9202917814254761),\n",
       " ('specifically', 0.9189317226409912),\n",
       " ('liquid', 0.9187425971031189),\n",
       " ('diabetic', 0.9181216359138489)]"
      ]
     },
     "execution_count": 101,
     "metadata": {},
     "output_type": "execute_result"
    }
   ],
   "source": [
    "W2V3.most_similar('bubble')"
   ]
  },
  {
   "cell_type": "code",
   "execution_count": 102,
   "id": "distant-township",
   "metadata": {},
   "outputs": [
    {
     "data": {
      "text/plain": [
       "[('specifically', 0.9656188488006592),\n",
       " ('crackdown', 0.9652366638183594),\n",
       " ('priority', 0.9650739431381226),\n",
       " ('indian', 0.9642505049705505),\n",
       " ('cybin', 0.9631083011627197),\n",
       " ('4/26/2021', 0.9628515243530273),\n",
       " ('escozine', 0.9627554416656494),\n",
       " ('dot', 0.9626944661140442),\n",
       " ('news-', 0.9622704386711121),\n",
       " ('wide', 0.9620131254196167)]"
      ]
     },
     "execution_count": 102,
     "metadata": {},
     "output_type": "execute_result"
    }
   ],
   "source": [
    "W2V3.most_similar('recession')"
   ]
  },
  {
   "cell_type": "code",
   "execution_count": 103,
   "id": "infrared-baptist",
   "metadata": {},
   "outputs": [
    {
     "data": {
      "text/plain": [
       "[('intensify', 0.8448748588562012),\n",
       " ('street', 0.8192287683486938),\n",
       " ('burry', 0.8111803531646729),\n",
       " ('wall', 0.7950109243392944),\n",
       " ('st', 0.7949076890945435),\n",
       " ('michael', 0.7929708957672119),\n",
       " ('corrupt', 0.7832649350166321),\n",
       " ('genius', 0.7825496196746826),\n",
       " ('scammer', 0.7771613597869873),\n",
       " ('sob', 0.7771143913269043)]"
      ]
     },
     "execution_count": 103,
     "metadata": {},
     "output_type": "execute_result"
    }
   ],
   "source": [
    "W2V3.most_similar('wallstreet')"
   ]
  },
  {
   "cell_type": "code",
   "execution_count": 104,
   "id": "focal-saskatchewan",
   "metadata": {},
   "outputs": [
    {
     "data": {
      "text/plain": [
       "[('fond', 0.7733042240142822),\n",
       " ('trim', 0.771956205368042),\n",
       " ('leverage', 0.6458841562271118),\n",
       " ('crook', 0.6072837710380554),\n",
       " ('unison', 0.5899981260299683),\n",
       " ('screw', 0.5876295566558838),\n",
       " ('citidel', 0.5862203240394592),\n",
       " ('fall', 0.5687466859817505),\n",
       " ('war', 0.565599799156189),\n",
       " ('inflation', 0.5538253784179688)]"
      ]
     },
     "execution_count": 104,
     "metadata": {},
     "output_type": "execute_result"
    }
   ],
   "source": [
    "W2V3.most_similar('fund')"
   ]
  },
  {
   "cell_type": "code",
   "execution_count": 105,
   "id": "acting-publisher",
   "metadata": {},
   "outputs": [
    {
     "data": {
      "text/plain": [
       "[('rh', 0.958264946937561),\n",
       " ('webull', 0.9272218942642212),\n",
       " ('fidelity', 0.9227033853530884),\n",
       " ('brokerage', 0.903801679611206),\n",
       " ('transfer', 0.902712345123291),\n",
       " ('switch', 0.8684033751487732),\n",
       " ('hood', 0.8492530584335327),\n",
       " ('broke', 0.8426730036735535),\n",
       " ('ameritrade', 0.8348714113235474),\n",
       " ('td', 0.8332688808441162)]"
      ]
     },
     "execution_count": 105,
     "metadata": {},
     "output_type": "execute_result"
    }
   ],
   "source": [
    "W2V3.most_similar('robinhood')"
   ]
  },
  {
   "cell_type": "code",
   "execution_count": 106,
   "id": "academic-sheffield",
   "metadata": {},
   "outputs": [
    {
     "data": {
      "text/plain": [
       "[('elon', 0.9249866008758545),\n",
       " ('papa', 0.9199966192245483),\n",
       " ('snl', 0.8386512398719788),\n",
       " ('tweet', 0.8359239101409912),\n",
       " ('anonymous', 0.7824901342391968),\n",
       " ('cz', 0.7707558870315552),\n",
       " ('cohen', 0.7699445486068726),\n",
       " ('neuralink', 0.7634950876235962),\n",
       " ('degree', 0.7523919343948364),\n",
       " ('billionaire', 0.7401237487792969)]"
      ]
     },
     "execution_count": 106,
     "metadata": {},
     "output_type": "execute_result"
    }
   ],
   "source": [
    "W2V3.most_similar('musk')"
   ]
  },
  {
   "cell_type": "code",
   "execution_count": 107,
   "id": "incredible-complex",
   "metadata": {},
   "outputs": [
    {
     "data": {
      "text/plain": [
       "[('ghmp', 0.667930006980896),\n",
       " ('recent', 0.6655216217041016),\n",
       " ('deal', 0.6606780290603638),\n",
       " ('report', 0.6569318175315857),\n",
       " ('article', 0.6543968319892883),\n",
       " ('result', 0.6516382098197937),\n",
       " ('setup', 0.6496592164039612),\n",
       " ('publish', 0.6274752616882324),\n",
       " ('hpil', 0.6213509440422058),\n",
       " ('announcement', 0.6147779226303101)]"
      ]
     },
     "execution_count": 107,
     "metadata": {},
     "output_type": "execute_result"
    }
   ],
   "source": [
    "W2V3.most_similar('news')"
   ]
  },
  {
   "cell_type": "code",
   "execution_count": 108,
   "id": "fundamental-exhibit",
   "metadata": {},
   "outputs": [
    {
     "data": {
      "text/plain": [
       "[('technical', 0.9026283025741577),\n",
       " ('thesis', 0.7674652934074402),\n",
       " ('base', 0.762797474861145),\n",
       " ('pattern', 0.7581229209899902),\n",
       " ('indicator', 0.7557967901229858),\n",
       " ('recent', 0.7497701644897461),\n",
       " ('fundamental', 0.7399827241897583),\n",
       " ('extremely', 0.7386502027511597),\n",
       " ('valuation', 0.7347191572189331),\n",
       " ('ta', 0.7294913530349731)]"
      ]
     },
     "execution_count": 108,
     "metadata": {},
     "output_type": "execute_result"
    }
   ],
   "source": [
    "W2V3.most_similar('analysis')"
   ]
  },
  {
   "cell_type": "code",
   "execution_count": 109,
   "id": "stylish-artist",
   "metadata": {},
   "outputs": [
    {
     "data": {
      "text/plain": [
       "[('q1', 0.8428936004638672),\n",
       " ('estimate', 0.7835404276847839),\n",
       " ('thursday', 0.7795830368995667),\n",
       " ('er', 0.7661476135253906),\n",
       " ('q2', 0.7653975486755371),\n",
       " ('quarter', 0.7640219926834106),\n",
       " ('upcoming', 0.7579352855682373),\n",
       " ('positive', 0.7537054419517517),\n",
       " ('quarterly', 0.7498354911804199),\n",
       " ('catalyst', 0.7481568455696106)]"
      ]
     },
     "execution_count": 109,
     "metadata": {},
     "output_type": "execute_result"
    }
   ],
   "source": [
    "W2V3.most_similar('earnings')"
   ]
  },
  {
   "cell_type": "code",
   "execution_count": 117,
   "id": "amber-palmer",
   "metadata": {},
   "outputs": [
    {
     "data": {
      "text/plain": [
       "[('january', 0.7391631007194519),\n",
       " ('bb', 0.6878666877746582),\n",
       " ('100k', 0.6745365858078003),\n",
       " ('500k', 0.6640923023223877),\n",
       " ('february', 0.6602613925933838),\n",
       " ('clov', 0.6563483476638794),\n",
       " ('floor', 0.6523768901824951),\n",
       " ('dilute', 0.6520073413848877),\n",
       " ('count', 0.6503071188926697),\n",
       " ('amc', 0.6487205028533936)]"
      ]
     },
     "execution_count": 117,
     "metadata": {},
     "output_type": "execute_result"
    }
   ],
   "source": [
    "W2V3.most_similar('gme')"
   ]
  },
  {
   "cell_type": "markdown",
   "id": "loving-birmingham",
   "metadata": {},
   "source": [
    "## Vector Dimension plot"
   ]
  },
  {
   "cell_type": "code",
   "execution_count": 110,
   "id": "perceived-festival",
   "metadata": {},
   "outputs": [],
   "source": [
    "Trend = dimension(W2V3, ['increase','soar', 'rise', 'raise', 'rocket', 'good', 'great'], \n",
    "                  ['decline', 'cut', 'drop', 'recession', 'dip', 'bad', 'flop'])\n",
    "Attitude = dimension(W2V3, ['crazy','urgent', 'mad', 'rush'], ['reason', 'rational', 'analysis', 'chill', 'calm'])\n",
    "Trust = dimension(W2V3, ['trust', 'believe', 'true', 'real', 'honest', 'sure'], \n",
    "                  ['fake', 'confuse', 'fraud', 'fool', 'doubt'])"
   ]
  },
  {
   "cell_type": "code",
   "execution_count": 111,
   "id": "accompanied-kansas",
   "metadata": {},
   "outputs": [],
   "source": [
    "Companies = ['apple', 'boeing', 'facebook', 'google', 'gm', 'amazon', 'amc', 'gamestop', 'microsoft', 'tesla']\n",
    "participants = ['investor', 'analyst', 'fund', 'bank', 'government', 'reddit', 'news', 'jpmorgan', 'youtuber']"
   ]
  },
  {
   "cell_type": "code",
   "execution_count": 114,
   "id": "silver-archive",
   "metadata": {},
   "outputs": [],
   "source": [
    "Comdf = makeDF(W2V3, Companies) \n",
    "Pardf = makeDF(W2V3, participants)"
   ]
  },
  {
   "cell_type": "code",
   "execution_count": 116,
   "id": "prompt-disclaimer",
   "metadata": {},
   "outputs": [
    {
     "data": {
      "image/png": "[encoded data removed]",
      "text/plain": [
       "<Figure size 864x576 with 3 Axes>"
      ]
     },
     "metadata": {},
     "output_type": "display_data"
    }
   ],
   "source": [
    "fig = plt.figure(figsize = (12,8))\n",
    "ax1 = fig.add_subplot(131)\n",
    "PlotDimension(ax1, Pardf, 'Trend')\n",
    "ax2 = fig.add_subplot(132)\n",
    "PlotDimension(ax2, Pardf, 'Attitude')\n",
    "ax3 = fig.add_subplot(133)\n",
    "PlotDimension(ax3, Pardf, 'Trust')\n",
    "plt.savefig('dim_proj_rb_par.jpg')\n",
    "plt.show()"
   ]
  },
  {
   "cell_type": "code",
   "execution_count": 90,
   "id": "entire-thesaurus",
   "metadata": {},
   "outputs": [
    {
     "data": {
      "image/png": "[encoded data removed]",
      "text/plain": [
       "<Figure size 864x576 with 3 Axes>"
      ]
     },
     "metadata": {},
     "output_type": "display_data"
    }
   ],
   "source": [
    "fig = plt.figure(figsize = (12,8))\n",
    "ax1 = fig.add_subplot(131)\n",
    "PlotDimension(ax1, Comdf, 'Trend')\n",
    "ax2 = fig.add_subplot(132)\n",
    "PlotDimension(ax2, Comdf, 'Attitude')\n",
    "ax3 = fig.add_subplot(133)\n",
    "PlotDimension(ax3, Comdf, 'Trust')\n",
    "plt.savefig('dim_proj_rb_com.jpg')\n",
    "plt.show()"
   ]
  },
  {
   "cell_type": "markdown",
   "id": "cordless-mayor",
   "metadata": {},
   "source": [
    "# `GME W2V`"
   ]
  },
  {
   "cell_type": "code",
   "execution_count": 121,
   "id": "alternate-neighborhood",
   "metadata": {},
   "outputs": [],
   "source": [
    "gme = df[df['gme']==1]"
   ]
  },
  {
   "cell_type": "code",
   "execution_count": 122,
   "id": "likely-september",
   "metadata": {},
   "outputs": [
    {
     "data": {
      "text/html": [
       "<div>\n",
       "<style scoped>\n",
       "    .dataframe tbody tr th:only-of-type {\n",
       "        vertical-align: middle;\n",
       "    }\n",
       "\n",
       "    .dataframe tbody tr th {\n",
       "        vertical-align: top;\n",
       "    }\n",
       "\n",
       "    .dataframe thead th {\n",
       "        text-align: right;\n",
       "    }\n",
       "</style>\n",
       "<table border=\"1\" class=\"dataframe\">\n",
       "  <thead>\n",
       "    <tr style=\"text-align: right;\">\n",
       "      <th></th>\n",
       "      <th>title</th>\n",
       "      <th>text</th>\n",
       "      <th>time</th>\n",
       "      <th>ym</th>\n",
       "      <th>score</th>\n",
       "      <th>num_comments</th>\n",
       "      <th>gme</th>\n",
       "      <th>tokenized_text</th>\n",
       "      <th>normalized_tokens</th>\n",
       "      <th>tokenized_texts</th>\n",
       "      <th>normalized_texts</th>\n",
       "    </tr>\n",
       "  </thead>\n",
       "  <tbody>\n",
       "    <tr>\n",
       "      <th>144</th>\n",
       "      <td>REGGIE IS WITH US GME HOLDERS</td>\n",
       "      <td>[removed]</td>\n",
       "      <td>2020-10-01</td>\n",
       "      <td>202010</td>\n",
       "      <td>1</td>\n",
       "      <td>1</td>\n",
       "      <td>1</td>\n",
       "      <td>[REGGIE, IS, WITH, US, GME, HOLDERS]</td>\n",
       "      <td>[reggie, gme, holder]</td>\n",
       "      <td>[[REGGIE, IS, WITH, US, GME, HOLDERS]]</td>\n",
       "      <td>[[reggie, gme, holder]]</td>\n",
       "    </tr>\n",
       "    <tr>\n",
       "      <th>239</th>\n",
       "      <td>GameStop Pump?</td>\n",
       "      <td>[deleted]</td>\n",
       "      <td>2020-10-01</td>\n",
       "      <td>202010</td>\n",
       "      <td>12</td>\n",
       "      <td>14</td>\n",
       "      <td>1</td>\n",
       "      <td>[GameStop, Pump]</td>\n",
       "      <td>[gamestop, pump]</td>\n",
       "      <td>[[GameStop, Pump]]</td>\n",
       "      <td>[[gamestop, pump]]</td>\n",
       "    </tr>\n",
       "    <tr>\n",
       "      <th>277</th>\n",
       "      <td>GME More information on Ryan Cohen</td>\n",
       "      <td>\\n\\nCredit for this information goes to Just...</td>\n",
       "      <td>2020-10-01</td>\n",
       "      <td>202010</td>\n",
       "      <td>37</td>\n",
       "      <td>26</td>\n",
       "      <td>1</td>\n",
       "      <td>[GME, More, information, on, Ryan, Cohen]</td>\n",
       "      <td>[gme, information, ryan, cohen]</td>\n",
       "      <td>[[GME, More, information, on, Ryan, Cohen]]</td>\n",
       "      <td>[[gme, information, ryan, cohen]]</td>\n",
       "    </tr>\n",
       "    <tr>\n",
       "      <th>702</th>\n",
       "      <td>What the fuck is going on with GME?</td>\n",
       "      <td>**Original Post:**\\n\\n&gt;!Can we get an actual d...</td>\n",
       "      <td>2020-10-02</td>\n",
       "      <td>202010</td>\n",
       "      <td>59</td>\n",
       "      <td>122</td>\n",
       "      <td>1</td>\n",
       "      <td>[What, the, fuck, is, going, on, with, GME]</td>\n",
       "      <td>[fuck, go, gme]</td>\n",
       "      <td>[[What, the, fuck, is, going, on, with, GME]]</td>\n",
       "      <td>[[fuck, go, gme]]</td>\n",
       "    </tr>\n",
       "    <tr>\n",
       "      <th>1302</th>\n",
       "      <td>Gamestop Losses ---Still HOLDR with Diamond ha...</td>\n",
       "      <td>[deleted]</td>\n",
       "      <td>2020-10-03</td>\n",
       "      <td>202010</td>\n",
       "      <td>36</td>\n",
       "      <td>83</td>\n",
       "      <td>1</td>\n",
       "      <td>[Gamestop, Losses, ---Still, HOLDR, with, Diam...</td>\n",
       "      <td>[gamestop, loss, ---still, holdr, diamond, hand]</td>\n",
       "      <td>[[Gamestop, Losses, ---Still, HOLDR, with, Dia...</td>\n",
       "      <td>[[gamestop, loss, ---still, holdr, diamond, ha...</td>\n",
       "    </tr>\n",
       "  </tbody>\n",
       "</table>\n",
       "</div>"
      ],
      "text/plain": [
       "                                                  title  \\\n",
       "144                       REGGIE IS WITH US GME HOLDERS   \n",
       "239                                      GameStop Pump?   \n",
       "277                  GME More information on Ryan Cohen   \n",
       "702                 What the fuck is going on with GME?   \n",
       "1302  Gamestop Losses ---Still HOLDR with Diamond ha...   \n",
       "\n",
       "                                                   text        time      ym  \\\n",
       "144                                           [removed]  2020-10-01  202010   \n",
       "239                                           [deleted]  2020-10-01  202010   \n",
       "277     \\n\\nCredit for this information goes to Just...  2020-10-01  202010   \n",
       "702   **Original Post:**\\n\\n>!Can we get an actual d...  2020-10-02  202010   \n",
       "1302                                          [deleted]  2020-10-03  202010   \n",
       "\n",
       "      score  num_comments  gme  \\\n",
       "144       1             1    1   \n",
       "239      12            14    1   \n",
       "277      37            26    1   \n",
       "702      59           122    1   \n",
       "1302     36            83    1   \n",
       "\n",
       "                                         tokenized_text  \\\n",
       "144                [REGGIE, IS, WITH, US, GME, HOLDERS]   \n",
       "239                                    [GameStop, Pump]   \n",
       "277           [GME, More, information, on, Ryan, Cohen]   \n",
       "702         [What, the, fuck, is, going, on, with, GME]   \n",
       "1302  [Gamestop, Losses, ---Still, HOLDR, with, Diam...   \n",
       "\n",
       "                                     normalized_tokens  \\\n",
       "144                              [reggie, gme, holder]   \n",
       "239                                   [gamestop, pump]   \n",
       "277                    [gme, information, ryan, cohen]   \n",
       "702                                    [fuck, go, gme]   \n",
       "1302  [gamestop, loss, ---still, holdr, diamond, hand]   \n",
       "\n",
       "                                        tokenized_texts  \\\n",
       "144              [[REGGIE, IS, WITH, US, GME, HOLDERS]]   \n",
       "239                                  [[GameStop, Pump]]   \n",
       "277         [[GME, More, information, on, Ryan, Cohen]]   \n",
       "702       [[What, the, fuck, is, going, on, with, GME]]   \n",
       "1302  [[Gamestop, Losses, ---Still, HOLDR, with, Dia...   \n",
       "\n",
       "                                       normalized_texts  \n",
       "144                             [[reggie, gme, holder]]  \n",
       "239                                  [[gamestop, pump]]  \n",
       "277                   [[gme, information, ryan, cohen]]  \n",
       "702                                   [[fuck, go, gme]]  \n",
       "1302  [[gamestop, loss, ---still, holdr, diamond, ha...  "
      ]
     },
     "execution_count": 122,
     "metadata": {},
     "output_type": "execute_result"
    }
   ],
   "source": [
    "gme.head()"
   ]
  },
  {
   "cell_type": "code",
   "execution_count": 123,
   "id": "iraqi-bradford",
   "metadata": {},
   "outputs": [
    {
     "name": "stdout",
     "output_type": "stream",
     "text": [
      "CPU times: user 8min 59s, sys: 12.7 s, total: 9min 11s\n",
      "Wall time: 9min 45s\n"
     ]
    }
   ],
   "source": [
    "%%time\n",
    "W2V_gme = gensim.models.word2vec.Word2Vec(gme['normalized_texts'].sum(), sg=0)"
   ]
  },
  {
   "cell_type": "code",
   "execution_count": 186,
   "id": "saving-birmingham",
   "metadata": {},
   "outputs": [],
   "source": [
    "numWords = 60\n",
    "targetWords = W2V_gme.wv.index2word[:numWords]"
   ]
  },
  {
   "cell_type": "code",
   "execution_count": 187,
   "id": "efficient-poultry",
   "metadata": {},
   "outputs": [
    {
     "data": {
      "text/plain": [
       "array([[-0.32147622, -0.08278619,  0.43025297, ..., -0.08906323,\n",
       "        -0.2118545 , -0.19039042],\n",
       "       [-1.7570665 ,  1.6605484 ,  0.04754155, ...,  0.43390673,\n",
       "         0.9441768 , -1.1542293 ],\n",
       "       [ 0.07776286, -0.442557  ,  0.45298263, ...,  1.1326681 ,\n",
       "        -0.07330044, -0.50413793],\n",
       "       ...,\n",
       "       [ 0.8623421 , -0.6167868 ,  0.26313615, ...,  0.43626508,\n",
       "        -0.1965517 ,  0.27880946],\n",
       "       [-0.31808612, -0.5582547 ,  0.01866594, ..., -0.8328075 ,\n",
       "        -0.65827876,  0.07133321],\n",
       "       [-0.39970896,  0.5298294 ,  1.0586075 , ...,  1.665585  ,\n",
       "        -0.633104  , -0.25174248]], dtype=float32)"
      ]
     },
     "execution_count": 187,
     "metadata": {},
     "output_type": "execute_result"
    }
   ],
   "source": [
    "wordsSubMatrix = []\n",
    "for word in targetWords:\n",
    "    wordsSubMatrix.append(W2V_gme[word])\n",
    "wordsSubMatrix = np.array(wordsSubMatrix)\n",
    "wordsSubMatrix"
   ]
  },
  {
   "cell_type": "code",
   "execution_count": 188,
   "id": "aboriginal-communication",
   "metadata": {},
   "outputs": [],
   "source": [
    "pcaWords = sklearn.decomposition.PCA(n_components = 60).fit(wordsSubMatrix)\n",
    "reducedPCA_data = pcaWords.transform(wordsSubMatrix)\n",
    "#T-SNE is theoretically better, but you should experiment\n",
    "tsneWords = sklearn.manifold.TSNE(n_components = 2).fit_transform(reducedPCA_data)"
   ]
  },
  {
   "cell_type": "code",
   "execution_count": 189,
   "id": "divine-wrapping",
   "metadata": {},
   "outputs": [
    {
     "data": {
      "image/png": "[encoded data removed]",
      "text/plain": [
       "<Figure size 720x432 with 1 Axes>"
      ]
     },
     "metadata": {},
     "output_type": "display_data"
    }
   ],
   "source": [
    "fig = plt.figure(figsize = (10,6))\n",
    "ax = fig.add_subplot(111)\n",
    "ax.set_frame_on(False)\n",
    "plt.scatter(tsneWords[:, 0], tsneWords[:, 1], alpha = 0)#Making the points invisible \n",
    "for i, word in enumerate(targetWords):\n",
    "    ax.annotate(word, (tsneWords[:, 0][i],tsneWords[:, 1][i]), size =  20 * (numWords - i) / numWords)\n",
    "plt.title('Vector Visualization gme', size = 18, color = \"darkred\")\n",
    "plt.xticks(())\n",
    "plt.yticks(())\n",
    "plt.savefig('w2v_tsne_gme.jpg')\n",
    "plt.show()"
   ]
  },
  {
   "cell_type": "code",
   "execution_count": 136,
   "id": "geological-export",
   "metadata": {},
   "outputs": [],
   "source": [
    "Trend = dimension(W2V_gme, ['increase','soar', 'rise', 'raise', 'rocket', 'good', 'great', 'up'], \n",
    "                  ['decline', 'cut', 'drop', 'recession', 'dip', 'bad', 'flop', 'down'])\n",
    "Attitude = dimension(W2V_gme, ['crazy','urgent', 'mad', 'rush'], ['reason', 'rational', 'analysis', 'chill', 'calm'])\n",
    "Trust = dimension(W2V_gme, ['trust', 'believe', 'true', 'real', 'honest', 'sure'], \n",
    "                  ['fake', 'confuse', 'fraud', 'fool', 'doubt'])"
   ]
  },
  {
   "cell_type": "code",
   "execution_count": 132,
   "id": "confidential-morrison",
   "metadata": {},
   "outputs": [],
   "source": [
    "Companies = ['apple', 'boeing', 'facebook', 'google', 'gm', 'amazon', 'amc', 'gamestop', 'microsoft', 'tesla']\n",
    "participants = ['investor', 'analyst', 'fund', 'bank', 'government', 'reddit', 'news', 'jpmorgan', 'youtuber']"
   ]
  },
  {
   "cell_type": "code",
   "execution_count": 133,
   "id": "sonic-bowling",
   "metadata": {},
   "outputs": [],
   "source": [
    "Comdf = makeDF(W2V3, Companies) \n",
    "Pardf = makeDF(W2V3, participants)"
   ]
  },
  {
   "cell_type": "code",
   "execution_count": 142,
   "id": "usual-cinema",
   "metadata": {},
   "outputs": [
    {
     "data": {
      "image/png": "[encoded data removed]",
      "text/plain": [
       "<Figure size 720x576 with 3 Axes>"
      ]
     },
     "metadata": {},
     "output_type": "display_data"
    }
   ],
   "source": [
    "fig = plt.figure(figsize = (10,8))\n",
    "ax1 = fig.add_subplot(131)\n",
    "PlotDimension(ax1, Pardf, 'Trend')\n",
    "ax2 = fig.add_subplot(132)\n",
    "PlotDimension(ax2, Pardf, 'Attitude')\n",
    "ax3 = fig.add_subplot(133)\n",
    "PlotDimension(ax3, Pardf, 'Trust')\n",
    "plt.savefig('dim_proj_gme_par.jpg')\n",
    "plt.show()"
   ]
  },
  {
   "cell_type": "code",
   "execution_count": 143,
   "id": "infectious-princeton",
   "metadata": {},
   "outputs": [
    {
     "data": {
      "image/png": "[encoded data removed]",
      "text/plain": [
       "<Figure size 720x576 with 3 Axes>"
      ]
     },
     "metadata": {},
     "output_type": "display_data"
    }
   ],
   "source": [
    "fig = plt.figure(figsize = (10,8))\n",
    "ax1 = fig.add_subplot(131)\n",
    "PlotDimension(ax1, Comdf, 'Trend')\n",
    "ax2 = fig.add_subplot(132)\n",
    "PlotDimension(ax2, Comdf, 'Attitude')\n",
    "ax3 = fig.add_subplot(133)\n",
    "PlotDimension(ax3, Comdf, 'Trust')\n",
    "plt.savefig('dim_proj_rb_com.jpg')\n",
    "plt.show()"
   ]
  },
  {
   "cell_type": "code",
   "execution_count": 144,
   "id": "adverse-library",
   "metadata": {},
   "outputs": [],
   "source": [
    "import copy \n",
    "\n",
    "def calc_syn0norm(model):\n",
    "    \"\"\"since syn0norm is now depricated\"\"\"\n",
    "    return (model.wv.syn0 / np.sqrt((model.wv.syn0 ** 2).sum(-1))[..., np.newaxis]).astype(np.float32)\n",
    "\n",
    "def smart_procrustes_align_gensim(base_embed, other_embed, words=None):\n",
    "    \"\"\"Procrustes align two gensim word2vec models (to allow for comparison between same word across models).\n",
    "    Code ported from HistWords <https://github.com/williamleif/histwords> by William Hamilton <wleif@stanford.edu>.\n",
    "    (With help from William. Thank you!)\n",
    "    First, intersect the vocabularies (see `intersection_align_gensim` documentation).\n",
    "    Then do the alignment on the other_embed model.\n",
    "    Replace the other_embed model's syn0 and syn0norm numpy matrices with the aligned version.\n",
    "    Return other_embed.\n",
    "    If `words` is set, intersect the two models' vocabulary with the vocabulary in words (see `intersection_align_gensim` documentation).\n",
    "    \"\"\"\n",
    "    base_embed = copy.copy(base_embed)\n",
    "    other_embed = copy.copy(other_embed)\n",
    "    # make sure vocabulary and indices are aligned\n",
    "    in_base_embed, in_other_embed = intersection_align_gensim(base_embed, other_embed, words=words)\n",
    "\n",
    "    # get the embedding matrices\n",
    "    base_vecs = calc_syn0norm(in_base_embed)\n",
    "    other_vecs = calc_syn0norm(in_other_embed)\n",
    "\n",
    "    # just a matrix dot product with numpy\n",
    "    m = other_vecs.T.dot(base_vecs) \n",
    "    # SVD method from numpy\n",
    "    u, _, v = np.linalg.svd(m)\n",
    "    # another matrix operation\n",
    "    ortho = u.dot(v) \n",
    "    # Replace original array with modified one\n",
    "    # i.e. multiplying the embedding matrix (syn0norm)by \"ortho\"\n",
    "    other_embed.wv.syn0norm = other_embed.wv.syn0 = (calc_syn0norm(other_embed)).dot(ortho)\n",
    "    return other_embed\n",
    "    \n",
    "def intersection_align_gensim(m1,m2, words=None):\n",
    "    \"\"\"\n",
    "    Intersect two gensim word2vec models, m1 and m2.\n",
    "    Only the shared vocabulary between them is kept.\n",
    "    If 'words' is set (as list or set), then the vocabulary is intersected with this list as well.\n",
    "    Indices are re-organized from 0..N in order of descending frequency (=sum of counts from both m1 and m2).\n",
    "    These indices correspond to the new syn0 and syn0norm objects in both gensim models:\n",
    "        -- so that Row 0 of m1.syn0 will be for the same word as Row 0 of m2.syn0\n",
    "        -- you can find the index of any word on the .index2word list: model.index2word.index(word) => 2\n",
    "    The .vocab dictionary is also updated for each model, preserving the count but updating the index.\n",
    "    \"\"\"\n",
    "\n",
    "    # Get the vocab for each model\n",
    "    vocab_m1 = set(m1.wv.vocab.keys())\n",
    "    vocab_m2 = set(m2.wv.vocab.keys())\n",
    "\n",
    "    # Find the common vocabulary\n",
    "    common_vocab = vocab_m1&vocab_m2\n",
    "    if words: common_vocab&=set(words)\n",
    "\n",
    "    # If no alignment necessary because vocab is identical...\n",
    "    if not vocab_m1-common_vocab and not vocab_m2-common_vocab:\n",
    "        return (m1,m2)\n",
    "\n",
    "    # Otherwise sort by frequency (summed for both)\n",
    "    common_vocab = list(common_vocab)\n",
    "    common_vocab.sort(key=lambda w: m1.wv.vocab[w].count + m2.wv.vocab[w].count,reverse=True)\n",
    "\n",
    "    # Then for each model...\n",
    "    for m in [m1,m2]:\n",
    "        # Replace old syn0norm array with new one (with common vocab)\n",
    "        indices = [m.wv.vocab[w].index for w in common_vocab]\n",
    "        old_arr = calc_syn0norm(m)\n",
    "        new_arr = np.array([old_arr[index] for index in indices])\n",
    "        m.wv.syn0norm = m.wv.syn0 = new_arr\n",
    "\n",
    "        # Replace old vocab dictionary with new one (with common vocab)\n",
    "        # and old index2word with new one\n",
    "        m.index2word = common_vocab\n",
    "        old_vocab = m.wv.vocab\n",
    "        new_vocab = {}\n",
    "        for new_index,word in enumerate(common_vocab):\n",
    "            old_vocab_obj=old_vocab[word]\n",
    "            new_vocab[word] = gensim.models.word2vec.Vocab(index=new_index, count=old_vocab_obj.count)\n",
    "        m.wv.vocab = new_vocab\n",
    "\n",
    "    return (m1,m2)"
   ]
  },
  {
   "cell_type": "code",
   "execution_count": 145,
   "id": "willing-custom",
   "metadata": {},
   "outputs": [],
   "source": [
    "def compareModels(df, category, text_column_name='normalized_sents', sort = True, embeddings_raw={}):\n",
    "    \"\"\"If you are using time as your category sorting is important\"\"\"\n",
    "    if len(embeddings_raw) == 0:\n",
    "        embeddings_raw = rawModels(df, category, text_column_name, sort)\n",
    "    cats = sorted(set(df[category]))\n",
    "    #These are much quicker\n",
    "    embeddings_aligned = {}\n",
    "    for catOuter in cats:\n",
    "        embeddings_aligned[catOuter] = [embeddings_raw[catOuter]]\n",
    "        for catInner in cats:\n",
    "            embeddings_aligned[catOuter].append(smart_procrustes_align_gensim(embeddings_aligned[catOuter][-1], embeddings_raw[catInner]))\n",
    "    return embeddings_raw, embeddings_aligned"
   ]
  },
  {
   "cell_type": "code",
   "execution_count": 146,
   "id": "accurate-stability",
   "metadata": {},
   "outputs": [],
   "source": [
    "def rawModels(df, category, text_column_name='normalized_sents', sort = True):\n",
    "    embeddings_raw = {}\n",
    "    cats = sorted(set(df[category]))\n",
    "    for cat in cats:\n",
    "        #This can take a while\n",
    "        print(\"Embedding {}\".format(cat), end = '\\r')\n",
    "        subsetDF = df[df[category] == cat]\n",
    "        #You might want to change the W2V parameters\n",
    "        embeddings_raw[cat] = gensim.models.word2vec.Word2Vec(subsetDF[text_column_name].sum())\n",
    "    return embeddings_raw"
   ]
  },
  {
   "cell_type": "code",
   "execution_count": 152,
   "id": "devoted-simulation",
   "metadata": {},
   "outputs": [
    {
     "name": "stdout",
     "output_type": "stream",
     "text": [
      "Embedding 202106\r"
     ]
    }
   ],
   "source": [
    "rawEmbeddings, comparedEmbeddings = compareModels(gme, 'ym', text_column_name='normalized_texts')"
   ]
  },
  {
   "cell_type": "code",
   "execution_count": 153,
   "id": "fabulous-lending",
   "metadata": {},
   "outputs": [
    {
     "data": {
      "text/plain": [
       "dict_keys([202010, 202011, 202012, 202101, 202102, 202103, 202104, 202105, 202106])"
      ]
     },
     "execution_count": 153,
     "metadata": {},
     "output_type": "execute_result"
    }
   ],
   "source": [
    "rawEmbeddings.keys()"
   ]
  },
  {
   "cell_type": "code",
   "execution_count": 157,
   "id": "italic-austria",
   "metadata": {},
   "outputs": [],
   "source": [
    "def getDivergenceDF(word, embeddingsDict):\n",
    "    dists = []\n",
    "    cats = sorted(set(embeddingsDict.keys()))\n",
    "    dists = {}\n",
    "    print(word)\n",
    "    for cat in cats:\n",
    "        dists[cat] = []\n",
    "        for embed in embeddingsDict[cat][1:]:\n",
    "            dists[cat].append(np.abs(1 - sklearn.metrics.pairwise.cosine_similarity(np.expand_dims(embeddingsDict[cat][0][word], axis = 0),\n",
    "                                                                             np.expand_dims(embed[word], axis = 0))[0,0]))\n",
    "    return pd.DataFrame(dists, index = cats)"
   ]
  },
  {
   "cell_type": "code",
   "execution_count": 181,
   "id": "continuing-appreciation",
   "metadata": {},
   "outputs": [
    {
     "name": "stdout",
     "output_type": "stream",
     "text": [
      "gamestop\n"
     ]
    },
    {
     "data": {
      "image/png": "[encoded data removed]",
      "text/plain": [
       "<Figure size 720x504 with 2 Axes>"
      ]
     },
     "metadata": {
      "needs_background": "light"
     },
     "output_type": "display_data"
    }
   ],
   "source": [
    "targetWord = 'gamestop'\n",
    "\n",
    "pltDF = getDivergenceDF(targetWord, comparedEmbeddings)\n",
    "fig, ax = plt.subplots(figsize = (10, 7))\n",
    "sns.heatmap(pltDF, ax = ax, annot = False) #set annot True for a lot more information\n",
    "ax.set_xlabel(\"Starting yearmonth\")\n",
    "ax.set_ylabel(\"Final yearmonth\")\n",
    "ax.set_title(\"Monthly linguistic change for: '{}'\".format(targetWord), fontsize = 20)\n",
    "plt.show()"
   ]
  },
  {
   "cell_type": "code",
   "execution_count": 179,
   "id": "reported-mailing",
   "metadata": {},
   "outputs": [
    {
     "name": "stdout",
     "output_type": "stream",
     "text": [
      "gme\n"
     ]
    },
    {
     "data": {
      "image/png": "[encoded data removed]",
      "text/plain": [
       "<Figure size 720x504 with 2 Axes>"
      ]
     },
     "metadata": {
      "needs_background": "light"
     },
     "output_type": "display_data"
    }
   ],
   "source": [
    "targetWord = 'gme'\n",
    "\n",
    "pltDF = getDivergenceDF(targetWord, comparedEmbeddings)\n",
    "fig, ax = plt.subplots(figsize = (10, 7))\n",
    "sns.heatmap(pltDF, ax = ax, annot = False) #set annot True for a lot more information\n",
    "ax.set_xlabel(\"Starting yearmonth\")\n",
    "ax.set_ylabel(\"Final yearmonth\")\n",
    "ax.set_title(\"Montly linguistic change for: '{}'\".format(targetWord), fontsize = 20)\n",
    "plt.show()"
   ]
  },
  {
   "cell_type": "code",
   "execution_count": 180,
   "id": "steady-jerusalem",
   "metadata": {},
   "outputs": [
    {
     "name": "stdout",
     "output_type": "stream",
     "text": [
      "moon\n"
     ]
    },
    {
     "data": {
      "image/png": "[encoded data removed]",
      "text/plain": [
       "<Figure size 720x504 with 2 Axes>"
      ]
     },
     "metadata": {
      "needs_background": "light"
     },
     "output_type": "display_data"
    }
   ],
   "source": [
    "targetWord = 'moon'\n",
    "\n",
    "pltDF = getDivergenceDF(targetWord, comparedEmbeddings)\n",
    "fig, ax = plt.subplots(figsize = (10, 7))\n",
    "sns.heatmap(pltDF, ax = ax, annot = False) #set annot True for a lot more information\n",
    "ax.set_xlabel(\"Starting yearmonth\")\n",
    "ax.set_ylabel(\"Final yearmonth\")\n",
    "ax.set_title(\"Monthly linguistic change for: '{}'\".format(targetWord))\n",
    "plt.show()"
   ]
  },
  {
   "cell_type": "code",
   "execution_count": 177,
   "id": "guided-header",
   "metadata": {},
   "outputs": [
    {
     "name": "stdout",
     "output_type": "stream",
     "text": [
      "buy\n"
     ]
    },
    {
     "data": {
      "image/png": "[encoded data removed]",
      "text/plain": [
       "<Figure size 720x504 with 2 Axes>"
      ]
     },
     "metadata": {
      "needs_background": "light"
     },
     "output_type": "display_data"
    }
   ],
   "source": [
    "targetWord = 'buy'\n",
    "\n",
    "pltDF = getDivergenceDF(targetWord, comparedEmbeddings)\n",
    "fig, ax = plt.subplots(figsize = (10, 7))\n",
    "sns.heatmap(pltDF, ax = ax, annot = False) #set annot True for a lot more information\n",
    "ax.set_xlabel(\"yearmonth\")\n",
    "ax.set_ylabel(\"yearmonth\")\n",
    "ax.set_title(\"Monthly linguistic change for: '{}'\".format(targetWord))\n",
    "plt.show();"
   ]
  },
  {
   "cell_type": "code",
   "execution_count": null,
   "id": "flexible-philadelphia",
   "metadata": {},
   "outputs": [],
   "source": []
  }
 ],
 "metadata": {
  "kernelspec": {
   "display_name": "Python 3",
   "language": "python",
   "name": "python3"
  },
  "language_info": {
   "codemirror_mode": {
    "name": "ipython",
    "version": 3
   },
   "file_extension": ".py",
   "mimetype": "text/x-python",
   "name": "python",
   "nbconvert_exporter": "python",
   "pygments_lexer": "ipython3",
   "version": "3.7.1"
  }
 },
 "nbformat": 4,
 "nbformat_minor": 5
}
