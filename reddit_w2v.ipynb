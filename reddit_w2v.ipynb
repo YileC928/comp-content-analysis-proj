{
 "cells": [
  {
   "cell_type": "code",
   "execution_count": 1,
   "id": "greatest-imagination",
   "metadata": {},
   "outputs": [],
   "source": [
    "#Special module written for this class\n",
    "#This provides access to data and to helper functions from previous weeks\n",
    "import lucem_illud #just in case, regularly update your lucem_illud with the following code: pip install git+git://github.com/UChicago-Computational-Content-Analysis/lucem_illud.git\n",
    "import gensim#For word2vec, etc\n",
    "\n",
    "import requests #for http requests\n",
    "import pandas as pd #gives us DataFrames\n",
    "import matplotlib.pyplot as plt #For graphics\n",
    "import wordcloud #Makes word clouds\n",
    "import numpy as np #For divergences/distances\n",
    "import scipy #For divergences/distances\n",
    "import seaborn as sns #makes our plots look nicer\n",
    "import sklearn.manifold #For a manifold plot\n",
    "import json #For API responses\n",
    "import urllib.parse #For joining urls\n",
    "import seaborn as sns#Makes the graphics look nicer\n",
    "import sklearn.metrics.pairwise #For cosine similarity\n",
    "import sklearn.manifold #For T-SNE\n",
    "import sklearn.decomposition #For PCA\n",
    "import datetime as dt\n",
    "import random\n",
    "\n",
    "# comp-linguistics\n",
    "import spacy\n",
    "\n",
    "#Displays the graphs\n",
    "import graphviz #You also need to install the command line graphviz\n",
    "\n",
    "#These are from the standard library\n",
    "import os.path\n",
    "import zipfile\n",
    "import subprocess\n",
    "import io\n",
    "import tempfile\n",
    "\n",
    "#This 'magic' command makes the plots work better\n",
    "#in the notebook, don't use it outside of a notebook\n",
    "%matplotlib inline\n",
    "import warnings\n",
    "warnings.filterwarnings(\"ignore\")"
   ]
  },
  {
   "cell_type": "code",
   "execution_count": 2,
   "id": "timely-potato",
   "metadata": {},
   "outputs": [],
   "source": [
    "df = pd.read_csv('full.csv')"
   ]
  },
  {
   "cell_type": "code",
   "execution_count": 3,
   "id": "athletic-edward",
   "metadata": {},
   "outputs": [
    {
     "data": {
      "text/html": [
       "<div>\n",
       "<style scoped>\n",
       "    .dataframe tbody tr th:only-of-type {\n",
       "        vertical-align: middle;\n",
       "    }\n",
       "\n",
       "    .dataframe tbody tr th {\n",
       "        vertical-align: top;\n",
       "    }\n",
       "\n",
       "    .dataframe thead th {\n",
       "        text-align: right;\n",
       "    }\n",
       "</style>\n",
       "<table border=\"1\" class=\"dataframe\">\n",
       "  <thead>\n",
       "    <tr style=\"text-align: right;\">\n",
       "      <th></th>\n",
       "      <th>title</th>\n",
       "      <th>text</th>\n",
       "      <th>time</th>\n",
       "      <th>ym</th>\n",
       "      <th>score</th>\n",
       "      <th>num_comments</th>\n",
       "      <th>gme</th>\n",
       "    </tr>\n",
       "  </thead>\n",
       "  <tbody>\n",
       "    <tr>\n",
       "      <th>0</th>\n",
       "      <td>WSBVoteBot Log for Oct 01 2020</td>\n",
       "      <td>Every time a new submission is posted to walls...</td>\n",
       "      <td>2020-10-01</td>\n",
       "      <td>202010</td>\n",
       "      <td>5</td>\n",
       "      <td>18</td>\n",
       "      <td>0</td>\n",
       "    </tr>\n",
       "    <tr>\n",
       "      <th>1</th>\n",
       "      <td>call expiring 10/2</td>\n",
       "      <td>[removed]</td>\n",
       "      <td>2020-10-01</td>\n",
       "      <td>202010</td>\n",
       "      <td>1</td>\n",
       "      <td>0</td>\n",
       "      <td>0</td>\n",
       "    </tr>\n",
       "    <tr>\n",
       "      <th>2</th>\n",
       "      <td>Warren Buffett UNCHARMED B.H. DD inside</td>\n",
       "      <td>[removed]</td>\n",
       "      <td>2020-10-01</td>\n",
       "      <td>202010</td>\n",
       "      <td>0</td>\n",
       "      <td>4</td>\n",
       "      <td>0</td>\n",
       "    </tr>\n",
       "    <tr>\n",
       "      <th>3</th>\n",
       "      <td>Thrown out of r/Stocks for saying I prefer FAA...</td>\n",
       "      <td>[deleted]</td>\n",
       "      <td>2020-10-01</td>\n",
       "      <td>202010</td>\n",
       "      <td>1</td>\n",
       "      <td>0</td>\n",
       "      <td>0</td>\n",
       "    </tr>\n",
       "    <tr>\n",
       "      <th>4</th>\n",
       "      <td>What would you retards do?</td>\n",
       "      <td>NaN</td>\n",
       "      <td>2020-10-01</td>\n",
       "      <td>202010</td>\n",
       "      <td>1</td>\n",
       "      <td>0</td>\n",
       "      <td>0</td>\n",
       "    </tr>\n",
       "  </tbody>\n",
       "</table>\n",
       "</div>"
      ],
      "text/plain": [
       "                                               title  \\\n",
       "0                     WSBVoteBot Log for Oct 01 2020   \n",
       "1                                 call expiring 10/2   \n",
       "2            Warren Buffett UNCHARMED B.H. DD inside   \n",
       "3  Thrown out of r/Stocks for saying I prefer FAA...   \n",
       "4                         What would you retards do?   \n",
       "\n",
       "                                                text        time      ym  \\\n",
       "0  Every time a new submission is posted to walls...  2020-10-01  202010   \n",
       "1                                          [removed]  2020-10-01  202010   \n",
       "2                                          [removed]  2020-10-01  202010   \n",
       "3                                          [deleted]  2020-10-01  202010   \n",
       "4                                                NaN  2020-10-01  202010   \n",
       "\n",
       "   score  num_comments  gme  \n",
       "0      5            18    0  \n",
       "1      1             0    0  \n",
       "2      0             4    0  \n",
       "3      1             0    0  \n",
       "4      1             0    0  "
      ]
     },
     "execution_count": 3,
     "metadata": {},
     "output_type": "execute_result"
    }
   ],
   "source": [
    "df = df[['title', 'text', 'time', 'ym', 'score', 'num_comments', 'gme']]\n",
    "df.head()"
   ]
  },
  {
   "cell_type": "code",
   "execution_count": 4,
   "id": "moving-butter",
   "metadata": {},
   "outputs": [
    {
     "data": {
      "text/plain": [
       "0"
      ]
     },
     "execution_count": 4,
     "metadata": {},
     "output_type": "execute_result"
    }
   ],
   "source": [
    "def na_value(x):\n",
    "    if type(x) == float:\n",
    "        return ''\n",
    "    else:\n",
    "        return x\n",
    "\n",
    "df['title'] = df['title'].apply(na_value)\n",
    "\n",
    "np.sum(df['title'].apply(lambda x: type(x) == float))"
   ]
  },
  {
   "cell_type": "code",
   "execution_count": 5,
   "id": "adequate-collectible",
   "metadata": {},
   "outputs": [
    {
     "name": "stdout",
     "output_type": "stream",
     "text": [
      "CPU times: user 5min 24s, sys: 16.2 s, total: 5min 40s\n",
      "Wall time: 7min 4s\n"
     ]
    }
   ],
   "source": [
    "%%time\n",
    "df['tokenized_text'] = df['title'].apply(lambda x: lucem_illud.word_tokenize(x))\n",
    "df['normalized_tokens'] = df['title'].apply(lambda x: lucem_illud.normalizeTokens(x))"
   ]
  },
  {
   "cell_type": "code",
   "execution_count": 6,
   "id": "israeli-studio",
   "metadata": {},
   "outputs": [],
   "source": [
    "df['tokenized_texts'] = df['tokenized_text'].apply(lambda x: [x])\n",
    "df['normalized_texts'] = df['normalized_tokens'].apply(lambda x: [x])"
   ]
  },
  {
   "cell_type": "code",
   "execution_count": 7,
   "id": "unauthorized-swiss",
   "metadata": {},
   "outputs": [],
   "source": [
    "df_1 = df[df['ym']<202101]\n",
    "df_2 = df[df['ym']>=202101]\n",
    "df_2 = df_2[df_2['ym']<202104]\n",
    "df_3 = df[df['ym']>=202104]"
   ]
  },
  {
   "cell_type": "markdown",
   "id": "about-stewart",
   "metadata": {},
   "source": [
    "# `GME W2V`"
   ]
  },
  {
   "cell_type": "code",
   "execution_count": 121,
   "id": "alternate-neighborhood",
   "metadata": {},
   "outputs": [],
   "source": [
    "gme = df[df['gme']==1]"
   ]
  },
  {
   "cell_type": "code",
   "execution_count": 122,
   "id": "military-bones",
   "metadata": {},
   "outputs": [
    {
     "data": {
      "text/html": [
       "<div>\n",
       "<style scoped>\n",
       "    .dataframe tbody tr th:only-of-type {\n",
       "        vertical-align: middle;\n",
       "    }\n",
       "\n",
       "    .dataframe tbody tr th {\n",
       "        vertical-align: top;\n",
       "    }\n",
       "\n",
       "    .dataframe thead th {\n",
       "        text-align: right;\n",
       "    }\n",
       "</style>\n",
       "<table border=\"1\" class=\"dataframe\">\n",
       "  <thead>\n",
       "    <tr style=\"text-align: right;\">\n",
       "      <th></th>\n",
       "      <th>title</th>\n",
       "      <th>text</th>\n",
       "      <th>time</th>\n",
       "      <th>ym</th>\n",
       "      <th>score</th>\n",
       "      <th>num_comments</th>\n",
       "      <th>gme</th>\n",
       "      <th>tokenized_text</th>\n",
       "      <th>normalized_tokens</th>\n",
       "      <th>tokenized_texts</th>\n",
       "      <th>normalized_texts</th>\n",
       "    </tr>\n",
       "  </thead>\n",
       "  <tbody>\n",
       "    <tr>\n",
       "      <th>144</th>\n",
       "      <td>REGGIE IS WITH US GME HOLDERS</td>\n",
       "      <td>[removed]</td>\n",
       "      <td>2020-10-01</td>\n",
       "      <td>202010</td>\n",
       "      <td>1</td>\n",
       "      <td>1</td>\n",
       "      <td>1</td>\n",
       "      <td>[REGGIE, IS, WITH, US, GME, HOLDERS]</td>\n",
       "      <td>[reggie, gme, holder]</td>\n",
       "      <td>[[REGGIE, IS, WITH, US, GME, HOLDERS]]</td>\n",
       "      <td>[[reggie, gme, holder]]</td>\n",
       "    </tr>\n",
       "    <tr>\n",
       "      <th>239</th>\n",
       "      <td>GameStop Pump?</td>\n",
       "      <td>[deleted]</td>\n",
       "      <td>2020-10-01</td>\n",
       "      <td>202010</td>\n",
       "      <td>12</td>\n",
       "      <td>14</td>\n",
       "      <td>1</td>\n",
       "      <td>[GameStop, Pump]</td>\n",
       "      <td>[gamestop, pump]</td>\n",
       "      <td>[[GameStop, Pump]]</td>\n",
       "      <td>[[gamestop, pump]]</td>\n",
       "    </tr>\n",
       "    <tr>\n",
       "      <th>277</th>\n",
       "      <td>GME More information on Ryan Cohen</td>\n",
       "      <td>\\n\\nCredit for this information goes to Just...</td>\n",
       "      <td>2020-10-01</td>\n",
       "      <td>202010</td>\n",
       "      <td>37</td>\n",
       "      <td>26</td>\n",
       "      <td>1</td>\n",
       "      <td>[GME, More, information, on, Ryan, Cohen]</td>\n",
       "      <td>[gme, information, ryan, cohen]</td>\n",
       "      <td>[[GME, More, information, on, Ryan, Cohen]]</td>\n",
       "      <td>[[gme, information, ryan, cohen]]</td>\n",
       "    </tr>\n",
       "    <tr>\n",
       "      <th>702</th>\n",
       "      <td>What the fuck is going on with GME?</td>\n",
       "      <td>**Original Post:**\\n\\n&gt;!Can we get an actual d...</td>\n",
       "      <td>2020-10-02</td>\n",
       "      <td>202010</td>\n",
       "      <td>59</td>\n",
       "      <td>122</td>\n",
       "      <td>1</td>\n",
       "      <td>[What, the, fuck, is, going, on, with, GME]</td>\n",
       "      <td>[fuck, go, gme]</td>\n",
       "      <td>[[What, the, fuck, is, going, on, with, GME]]</td>\n",
       "      <td>[[fuck, go, gme]]</td>\n",
       "    </tr>\n",
       "    <tr>\n",
       "      <th>1302</th>\n",
       "      <td>Gamestop Losses ---Still HOLDR with Diamond ha...</td>\n",
       "      <td>[deleted]</td>\n",
       "      <td>2020-10-03</td>\n",
       "      <td>202010</td>\n",
       "      <td>36</td>\n",
       "      <td>83</td>\n",
       "      <td>1</td>\n",
       "      <td>[Gamestop, Losses, ---Still, HOLDR, with, Diam...</td>\n",
       "      <td>[gamestop, loss, ---still, holdr, diamond, hand]</td>\n",
       "      <td>[[Gamestop, Losses, ---Still, HOLDR, with, Dia...</td>\n",
       "      <td>[[gamestop, loss, ---still, holdr, diamond, ha...</td>\n",
       "    </tr>\n",
       "  </tbody>\n",
       "</table>\n",
       "</div>"
      ],
      "text/plain": [
       "                                                  title  \\\n",
       "144                       REGGIE IS WITH US GME HOLDERS   \n",
       "239                                      GameStop Pump?   \n",
       "277                  GME More information on Ryan Cohen   \n",
       "702                 What the fuck is going on with GME?   \n",
       "1302  Gamestop Losses ---Still HOLDR with Diamond ha...   \n",
       "\n",
       "                                                   text        time      ym  \\\n",
       "144                                           [removed]  2020-10-01  202010   \n",
       "239                                           [deleted]  2020-10-01  202010   \n",
       "277     \\n\\nCredit for this information goes to Just...  2020-10-01  202010   \n",
       "702   **Original Post:**\\n\\n>!Can we get an actual d...  2020-10-02  202010   \n",
       "1302                                          [deleted]  2020-10-03  202010   \n",
       "\n",
       "      score  num_comments  gme  \\\n",
       "144       1             1    1   \n",
       "239      12            14    1   \n",
       "277      37            26    1   \n",
       "702      59           122    1   \n",
       "1302     36            83    1   \n",
       "\n",
       "                                         tokenized_text  \\\n",
       "144                [REGGIE, IS, WITH, US, GME, HOLDERS]   \n",
       "239                                    [GameStop, Pump]   \n",
       "277           [GME, More, information, on, Ryan, Cohen]   \n",
       "702         [What, the, fuck, is, going, on, with, GME]   \n",
       "1302  [Gamestop, Losses, ---Still, HOLDR, with, Diam...   \n",
       "\n",
       "                                     normalized_tokens  \\\n",
       "144                              [reggie, gme, holder]   \n",
       "239                                   [gamestop, pump]   \n",
       "277                    [gme, information, ryan, cohen]   \n",
       "702                                    [fuck, go, gme]   \n",
       "1302  [gamestop, loss, ---still, holdr, diamond, hand]   \n",
       "\n",
       "                                        tokenized_texts  \\\n",
       "144              [[REGGIE, IS, WITH, US, GME, HOLDERS]]   \n",
       "239                                  [[GameStop, Pump]]   \n",
       "277         [[GME, More, information, on, Ryan, Cohen]]   \n",
       "702       [[What, the, fuck, is, going, on, with, GME]]   \n",
       "1302  [[Gamestop, Losses, ---Still, HOLDR, with, Dia...   \n",
       "\n",
       "                                       normalized_texts  \n",
       "144                             [[reggie, gme, holder]]  \n",
       "239                                  [[gamestop, pump]]  \n",
       "277                   [[gme, information, ryan, cohen]]  \n",
       "702                                   [[fuck, go, gme]]  \n",
       "1302  [[gamestop, loss, ---still, holdr, diamond, ha...  "
      ]
     },
     "execution_count": 122,
     "metadata": {},
     "output_type": "execute_result"
    }
   ],
   "source": [
    "gme.head()"
   ]
  },
  {
   "cell_type": "code",
   "execution_count": 123,
   "id": "fundamental-norman",
   "metadata": {},
   "outputs": [
    {
     "name": "stdout",
     "output_type": "stream",
     "text": [
      "CPU times: user 8min 59s, sys: 12.7 s, total: 9min 11s\n",
      "Wall time: 9min 45s\n"
     ]
    }
   ],
   "source": [
    "%%time\n",
    "W2V_gme = gensim.models.word2vec.Word2Vec(gme['normalized_texts'].sum(), sg=0)"
   ]
  },
  {
   "cell_type": "code",
   "execution_count": 186,
   "id": "saving-birmingham",
   "metadata": {},
   "outputs": [],
   "source": [
    "numWords = 60\n",
    "targetWords = W2V_gme.wv.index2word[:numWords]"
   ]
  },
  {
   "cell_type": "code",
   "execution_count": 187,
   "id": "efficient-poultry",
   "metadata": {},
   "outputs": [
    {
     "data": {
      "text/plain": [
       "array([[-0.32147622, -0.08278619,  0.43025297, ..., -0.08906323,\n",
       "        -0.2118545 , -0.19039042],\n",
       "       [-1.7570665 ,  1.6605484 ,  0.04754155, ...,  0.43390673,\n",
       "         0.9441768 , -1.1542293 ],\n",
       "       [ 0.07776286, -0.442557  ,  0.45298263, ...,  1.1326681 ,\n",
       "        -0.07330044, -0.50413793],\n",
       "       ...,\n",
       "       [ 0.8623421 , -0.6167868 ,  0.26313615, ...,  0.43626508,\n",
       "        -0.1965517 ,  0.27880946],\n",
       "       [-0.31808612, -0.5582547 ,  0.01866594, ..., -0.8328075 ,\n",
       "        -0.65827876,  0.07133321],\n",
       "       [-0.39970896,  0.5298294 ,  1.0586075 , ...,  1.665585  ,\n",
       "        -0.633104  , -0.25174248]], dtype=float32)"
      ]
     },
     "execution_count": 187,
     "metadata": {},
     "output_type": "execute_result"
    }
   ],
   "source": [
    "wordsSubMatrix = []\n",
    "for word in targetWords:\n",
    "    wordsSubMatrix.append(W2V_gme[word])\n",
    "wordsSubMatrix = np.array(wordsSubMatrix)\n",
    "wordsSubMatrix"
   ]
  },
  {
   "cell_type": "code",
   "execution_count": 188,
   "id": "aboriginal-communication",
   "metadata": {},
   "outputs": [],
   "source": [
    "pcaWords = sklearn.decomposition.PCA(n_components = 60).fit(wordsSubMatrix)\n",
    "reducedPCA_data = pcaWords.transform(wordsSubMatrix)\n",
    "#T-SNE is theoretically better, but you should experiment\n",
    "tsneWords = sklearn.manifold.TSNE(n_components = 2).fit_transform(reducedPCA_data)"
   ]
  },
  {
   "cell_type": "code",
   "execution_count": 189,
   "id": "divine-wrapping",
   "metadata": {},
   "outputs": [
    {
     "data": {
      "image/png": "[encoded data removed]",
      "text/plain": [
       "<Figure size 720x432 with 1 Axes>"
      ]
     },
     "metadata": {},
     "output_type": "display_data"
    }
   ],
   "source": [
    "fig = plt.figure(figsize = (10,6))\n",
    "ax = fig.add_subplot(111)\n",
    "ax.set_frame_on(False)\n",
    "plt.scatter(tsneWords[:, 0], tsneWords[:, 1], alpha = 0)#Making the points invisible \n",
    "for i, word in enumerate(targetWords):\n",
    "    ax.annotate(word, (tsneWords[:, 0][i],tsneWords[:, 1][i]), size =  20 * (numWords - i) / numWords)\n",
    "plt.title('Vector Visualization gme', size = 18, color = \"darkred\")\n",
    "plt.xticks(())\n",
    "plt.yticks(())\n",
    "plt.savefig('w2v_tsne_gme.jpg')\n",
    "plt.show()"
   ]
  },
  {
   "cell_type": "code",
   "execution_count": 136,
   "id": "bibliographic-president",
   "metadata": {},
   "outputs": [],
   "source": [
    "Trend = dimension(W2V_gme, ['increase','soar', 'rise', 'raise', 'rocket', 'good', 'great', 'up'], \n",
    "                  ['decline', 'cut', 'drop', 'recession', 'dip', 'bad', 'flop', 'down'])\n",
    "Attitude = dimension(W2V_gme, ['crazy','urgent', 'mad', 'rush'], ['reason', 'rational', 'analysis', 'chill', 'calm'])\n",
    "Trust = dimension(W2V_gme, ['trust', 'believe', 'true', 'real', 'honest', 'sure'], \n",
    "                  ['fake', 'confuse', 'fraud', 'fool', 'doubt'])"
   ]
  },
  {
   "cell_type": "code",
   "execution_count": 132,
   "id": "helpful-martial",
   "metadata": {},
   "outputs": [],
   "source": [
    "Companies = ['apple', 'boeing', 'facebook', 'google', 'gm', 'amazon', 'amc', 'gamestop', 'microsoft', 'tesla']\n",
    "participants = ['investor', 'analyst', 'fund', 'bank', 'government', 'reddit', 'news', 'jpmorgan', 'youtuber']"
   ]
  },
  {
   "cell_type": "code",
   "execution_count": 133,
   "id": "naked-protest",
   "metadata": {},
   "outputs": [],
   "source": [
    "Comdf = makeDF(W2V3, Companies) \n",
    "Pardf = makeDF(W2V3, participants)"
   ]
  },
  {
   "cell_type": "code",
   "execution_count": 142,
   "id": "isolated-parking",
   "metadata": {},
   "outputs": [
    {
     "data": {
      "image/png": "[encoded data removed]",
      "text/plain": [
       "<Figure size 720x576 with 3 Axes>"
      ]
     },
     "metadata": {},
     "output_type": "display_data"
    }
   ],
   "source": [
    "fig = plt.figure(figsize = (10,8))\n",
    "ax1 = fig.add_subplot(131)\n",
    "PlotDimension(ax1, Pardf, 'Trend')\n",
    "ax2 = fig.add_subplot(132)\n",
    "PlotDimension(ax2, Pardf, 'Attitude')\n",
    "ax3 = fig.add_subplot(133)\n",
    "PlotDimension(ax3, Pardf, 'Trust')\n",
    "plt.savefig('dim_proj_gme_par.jpg')\n",
    "plt.show()"
   ]
  },
  {
   "cell_type": "code",
   "execution_count": 143,
   "id": "exceptional-covering",
   "metadata": {},
   "outputs": [
    {
     "data": {
      "image/png": "[encoded data removed]",
      "text/plain": [
       "<Figure size 720x576 with 3 Axes>"
      ]
     },
     "metadata": {},
     "output_type": "display_data"
    }
   ],
   "source": [
    "fig = plt.figure(figsize = (10,8))\n",
    "ax1 = fig.add_subplot(131)\n",
    "PlotDimension(ax1, Comdf, 'Trend')\n",
    "ax2 = fig.add_subplot(132)\n",
    "PlotDimension(ax2, Comdf, 'Attitude')\n",
    "ax3 = fig.add_subplot(133)\n",
    "PlotDimension(ax3, Comdf, 'Trust')\n",
    "plt.savefig('dim_proj_rb_com.jpg')\n",
    "plt.show()"
   ]
  },
  {
   "cell_type": "code",
   "execution_count": 144,
   "id": "lesbian-butterfly",
   "metadata": {},
   "outputs": [],
   "source": [
    "import copy \n",
    "\n",
    "def calc_syn0norm(model):\n",
    "    \"\"\"since syn0norm is now depricated\"\"\"\n",
    "    return (model.wv.syn0 / np.sqrt((model.wv.syn0 ** 2).sum(-1))[..., np.newaxis]).astype(np.float32)\n",
    "\n",
    "def smart_procrustes_align_gensim(base_embed, other_embed, words=None):\n",
    "    \"\"\"Procrustes align two gensim word2vec models (to allow for comparison between same word across models).\n",
    "    Code ported from HistWords <https://github.com/williamleif/histwords> by William Hamilton <wleif@stanford.edu>.\n",
    "    (With help from William. Thank you!)\n",
    "    First, intersect the vocabularies (see `intersection_align_gensim` documentation).\n",
    "    Then do the alignment on the other_embed model.\n",
    "    Replace the other_embed model's syn0 and syn0norm numpy matrices with the aligned version.\n",
    "    Return other_embed.\n",
    "    If `words` is set, intersect the two models' vocabulary with the vocabulary in words (see `intersection_align_gensim` documentation).\n",
    "    \"\"\"\n",
    "    base_embed = copy.copy(base_embed)\n",
    "    other_embed = copy.copy(other_embed)\n",
    "    # make sure vocabulary and indices are aligned\n",
    "    in_base_embed, in_other_embed = intersection_align_gensim(base_embed, other_embed, words=words)\n",
    "\n",
    "    # get the embedding matrices\n",
    "    base_vecs = calc_syn0norm(in_base_embed)\n",
    "    other_vecs = calc_syn0norm(in_other_embed)\n",
    "\n",
    "    # just a matrix dot product with numpy\n",
    "    m = other_vecs.T.dot(base_vecs) \n",
    "    # SVD method from numpy\n",
    "    u, _, v = np.linalg.svd(m)\n",
    "    # another matrix operation\n",
    "    ortho = u.dot(v) \n",
    "    # Replace original array with modified one\n",
    "    # i.e. multiplying the embedding matrix (syn0norm)by \"ortho\"\n",
    "    other_embed.wv.syn0norm = other_embed.wv.syn0 = (calc_syn0norm(other_embed)).dot(ortho)\n",
    "    return other_embed\n",
    "    \n",
    "def intersection_align_gensim(m1,m2, words=None):\n",
    "    \"\"\"\n",
    "    Intersect two gensim word2vec models, m1 and m2.\n",
    "    Only the shared vocabulary between them is kept.\n",
    "    If 'words' is set (as list or set), then the vocabulary is intersected with this list as well.\n",
    "    Indices are re-organized from 0..N in order of descending frequency (=sum of counts from both m1 and m2).\n",
    "    These indices correspond to the new syn0 and syn0norm objects in both gensim models:\n",
    "        -- so that Row 0 of m1.syn0 will be for the same word as Row 0 of m2.syn0\n",
    "        -- you can find the index of any word on the .index2word list: model.index2word.index(word) => 2\n",
    "    The .vocab dictionary is also updated for each model, preserving the count but updating the index.\n",
    "    \"\"\"\n",
    "\n",
    "    # Get the vocab for each model\n",
    "    vocab_m1 = set(m1.wv.vocab.keys())\n",
    "    vocab_m2 = set(m2.wv.vocab.keys())\n",
    "\n",
    "    # Find the common vocabulary\n",
    "    common_vocab = vocab_m1&vocab_m2\n",
    "    if words: common_vocab&=set(words)\n",
    "\n",
    "    # If no alignment necessary because vocab is identical...\n",
    "    if not vocab_m1-common_vocab and not vocab_m2-common_vocab:\n",
    "        return (m1,m2)\n",
    "\n",
    "    # Otherwise sort by frequency (summed for both)\n",
    "    common_vocab = list(common_vocab)\n",
    "    common_vocab.sort(key=lambda w: m1.wv.vocab[w].count + m2.wv.vocab[w].count,reverse=True)\n",
    "\n",
    "    # Then for each model...\n",
    "    for m in [m1,m2]:\n",
    "        # Replace old syn0norm array with new one (with common vocab)\n",
    "        indices = [m.wv.vocab[w].index for w in common_vocab]\n",
    "        old_arr = calc_syn0norm(m)\n",
    "        new_arr = np.array([old_arr[index] for index in indices])\n",
    "        m.wv.syn0norm = m.wv.syn0 = new_arr\n",
    "\n",
    "        # Replace old vocab dictionary with new one (with common vocab)\n",
    "        # and old index2word with new one\n",
    "        m.index2word = common_vocab\n",
    "        old_vocab = m.wv.vocab\n",
    "        new_vocab = {}\n",
    "        for new_index,word in enumerate(common_vocab):\n",
    "            old_vocab_obj=old_vocab[word]\n",
    "            new_vocab[word] = gensim.models.word2vec.Vocab(index=new_index, count=old_vocab_obj.count)\n",
    "        m.wv.vocab = new_vocab\n",
    "\n",
    "    return (m1,m2)"
   ]
  },
  {
   "cell_type": "code",
   "execution_count": 145,
   "id": "defined-tattoo",
   "metadata": {},
   "outputs": [],
   "source": [
    "def compareModels(df, category, text_column_name='normalized_sents', sort = True, embeddings_raw={}):\n",
    "    \"\"\"If you are using time as your category sorting is important\"\"\"\n",
    "    if len(embeddings_raw) == 0:\n",
    "        embeddings_raw = rawModels(df, category, text_column_name, sort)\n",
    "    cats = sorted(set(df[category]))\n",
    "    #These are much quicker\n",
    "    embeddings_aligned = {}\n",
    "    for catOuter in cats:\n",
    "        embeddings_aligned[catOuter] = [embeddings_raw[catOuter]]\n",
    "        for catInner in cats:\n",
    "            embeddings_aligned[catOuter].append(smart_procrustes_align_gensim(embeddings_aligned[catOuter][-1], embeddings_raw[catInner]))\n",
    "    return embeddings_raw, embeddings_aligned"
   ]
  },
  {
   "cell_type": "code",
   "execution_count": 146,
   "id": "anonymous-mailman",
   "metadata": {},
   "outputs": [],
   "source": [
    "def rawModels(df, category, text_column_name='normalized_sents', sort = True):\n",
    "    embeddings_raw = {}\n",
    "    cats = sorted(set(df[category]))\n",
    "    for cat in cats:\n",
    "        #This can take a while\n",
    "        print(\"Embedding {}\".format(cat), end = '\\r')\n",
    "        subsetDF = df[df[category] == cat]\n",
    "        #You might want to change the W2V parameters\n",
    "        embeddings_raw[cat] = gensim.models.word2vec.Word2Vec(subsetDF[text_column_name].sum())\n",
    "    return embeddings_raw"
   ]
  },
  {
   "cell_type": "code",
   "execution_count": 152,
   "id": "specific-international",
   "metadata": {},
   "outputs": [
    {
     "name": "stdout",
     "output_type": "stream",
     "text": [
      "Embedding 202106\r"
     ]
    }
   ],
   "source": [
    "rawEmbeddings, comparedEmbeddings = compareModels(gme, 'ym', text_column_name='normalized_texts')"
   ]
  },
  {
   "cell_type": "code",
   "execution_count": 153,
   "id": "coated-corpus",
   "metadata": {},
   "outputs": [
    {
     "data": {
      "text/plain": [
       "dict_keys([202010, 202011, 202012, 202101, 202102, 202103, 202104, 202105, 202106])"
      ]
     },
     "execution_count": 153,
     "metadata": {},
     "output_type": "execute_result"
    }
   ],
   "source": [
    "rawEmbeddings.keys()"
   ]
  },
  {
   "cell_type": "code",
   "execution_count": 157,
   "id": "fitted-serve",
   "metadata": {},
   "outputs": [],
   "source": [
    "def getDivergenceDF(word, embeddingsDict):\n",
    "    dists = []\n",
    "    cats = sorted(set(embeddingsDict.keys()))\n",
    "    dists = {}\n",
    "    print(word)\n",
    "    for cat in cats:\n",
    "        dists[cat] = []\n",
    "        for embed in embeddingsDict[cat][1:]:\n",
    "            dists[cat].append(np.abs(1 - sklearn.metrics.pairwise.cosine_similarity(np.expand_dims(embeddingsDict[cat][0][word], axis = 0),\n",
    "                                                                             np.expand_dims(embed[word], axis = 0))[0,0]))\n",
    "    return pd.DataFrame(dists, index = cats)"
   ]
  },
  {
   "cell_type": "code",
   "execution_count": 181,
   "id": "beginning-extension",
   "metadata": {},
   "outputs": [
    {
     "name": "stdout",
     "output_type": "stream",
     "text": [
      "gamestop\n"
     ]
    },
    {
     "data": {
      "image/png": "[encoded data removed]",
      "text/plain": [
       "<Figure size 720x504 with 2 Axes>"
      ]
     },
     "metadata": {
      "needs_background": "light"
     },
     "output_type": "display_data"
    }
   ],
   "source": [
    "targetWord = 'gamestop'\n",
    "\n",
    "pltDF = getDivergenceDF(targetWord, comparedEmbeddings)\n",
    "fig, ax = plt.subplots(figsize = (10, 7))\n",
    "sns.heatmap(pltDF, ax = ax, annot = False) #set annot True for a lot more information\n",
    "ax.set_xlabel(\"Starting yearmonth\")\n",
    "ax.set_ylabel(\"Final yearmonth\")\n",
    "ax.set_title(\"Monthly linguistic change for: '{}'\".format(targetWord), fontsize = 20)\n",
    "plt.show()"
   ]
  },
  {
   "cell_type": "code",
   "execution_count": 179,
   "id": "alpha-relation",
   "metadata": {},
   "outputs": [
    {
     "name": "stdout",
     "output_type": "stream",
     "text": [
      "gme\n"
     ]
    },
    {
     "data": {
      "image/png": "[encoded data removed]",
      "text/plain": [
       "<Figure size 720x504 with 2 Axes>"
      ]
     },
     "metadata": {
      "needs_background": "light"
     },
     "output_type": "display_data"
    }
   ],
   "source": [
    "targetWord = 'gme'\n",
    "\n",
    "pltDF = getDivergenceDF(targetWord, comparedEmbeddings)\n",
    "fig, ax = plt.subplots(figsize = (10, 7))\n",
    "sns.heatmap(pltDF, ax = ax, annot = False) #set annot True for a lot more information\n",
    "ax.set_xlabel(\"Starting yearmonth\")\n",
    "ax.set_ylabel(\"Final yearmonth\")\n",
    "ax.set_title(\"Montly linguistic change for: '{}'\".format(targetWord), fontsize = 20)\n",
    "plt.show()"
   ]
  },
  {
   "cell_type": "code",
   "execution_count": null,
   "id": "industrial-chest",
   "metadata": {},
   "outputs": [],
   "source": []
  }
 ],
 "metadata": {
  "kernelspec": {
   "display_name": "Python 3",
   "language": "python",
   "name": "python3"
  },
  "language_info": {
   "codemirror_mode": {
    "name": "ipython",
    "version": 3
   },
   "file_extension": ".py",
   "mimetype": "text/x-python",
   "name": "python",
   "nbconvert_exporter": "python",
   "pygments_lexer": "ipython3",
   "version": "3.7.1"
  }
 },
 "nbformat": 4,
 "nbformat_minor": 5
}
